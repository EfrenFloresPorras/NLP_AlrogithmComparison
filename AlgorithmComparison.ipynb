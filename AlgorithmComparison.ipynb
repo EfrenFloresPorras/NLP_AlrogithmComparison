{
 "cells": [
  {
   "cell_type": "markdown",
   "metadata": {
    "cell_id": "12f0e7581db9417a9903f8f74dc89b67",
    "deepnote_cell_type": "text-cell-p",
    "formattedRanges": []
   },
   "source": []
  },
  {
   "cell_type": "markdown",
   "metadata": {
    "cell_id": "2c28598a51b040e0987991dbb42a598f",
    "deepnote_cell_type": "markdown"
   },
   "source": [
    "### Universidad Panamericana\n",
    "## Natural Language Processing\n",
    "# Final Project\n",
    "#\n",
    "### Efrén Flores Porras (0223214)\n",
    "### Ramón Andrés Galindo Gerardo (0248040)"
   ]
  },
  {
   "cell_type": "markdown",
   "metadata": {
    "cell_id": "720380214df04ee4899c2efe2178d1a8",
    "deepnote_cell_type": "markdown"
   },
   "source": [
    "## Libraries"
   ]
  },
  {
   "cell_type": "code",
   "execution_count": 43,
   "metadata": {
    "cell_id": "ff14e55d7dd841ebb7ae17c7a9c86829",
    "deepnote_cell_type": "code",
    "execution_context_id": "d1da7b4b-2f51-4f3e-813a-eb1312f0ae6d",
    "execution_millis": 4969,
    "execution_start": 1731335706263,
    "source_hash": "da6a9cdf"
   },
   "outputs": [],
   "source": [
    "# -----------------------------------\n",
    "# pandas\n",
    "# -----------------------------------\n",
    "import pandas as pd\n",
    "\n",
    "# -----------------------------------\n",
    "# numpy\n",
    "# -----------------------------------\n",
    "import numpy as np\n",
    "\n",
    "# -----------------------------------\n",
    "# plots\n",
    "# -----------------------------------\n",
    "import matplotlib.pyplot as plt\n",
    "\n",
    "# -----------------------------------\n",
    "# sklearn\n",
    "# -----------------------------------\n",
    "from sklearn.model_selection import train_test_split # to split datasets\n",
    "from sklearn.feature_extraction.text import TfidfVectorizer # to vectorize text\n",
    "# model training\n",
    "from sklearn import svm # support vector machines\n",
    "from sklearn.tree import DecisionTreeClassifier # decission trees\n",
    "from sklearn.linear_model import LogisticRegression # logistic regression\n",
    "from sklearn.ensemble import RandomForestClassifier # random forest classifier\n",
    "# model performance\n",
    "from sklearn.model_selection import GridSearchCV # to look for optimal training parameters\n",
    "from sklearn.metrics import classification_report, accuracy_score # to measure the models\n",
    "\n",
    "# -----------------------------------\n",
    "# TensorFlow\n",
    "# -----------------------------------\n",
    "# For preprocessing\n",
    "from tensorflow.keras.preprocessing.text import Tokenizer\n",
    "from tensorflow.keras.preprocessing.sequence import pad_sequences\n",
    "# Modelling\n",
    "from tensorflow.keras.models import Sequential # multi-layer nn\n",
    "from tensorflow.keras.layers import Embedding, GlobalAveragePooling1D, Dense, Conv1D, AveragePooling1D, Flatten, LSTM, Dropout # layer types\n",
    "# callbacks\n",
    "from tensorflow.keras.callbacks import EarlyStopping\n",
    "\n",
    "# -----------------------------------\n",
    "# Hyperparameters tunning\n",
    "# -----------------------------------\n",
    "import keras_tuner as kt\n",
    "\n",
    "# -----------------------------------\n",
    "# Text processing\n",
    "# -----------------------------------\n",
    "import re\n",
    "import contractions\n",
    "import nltk\n",
    "from nltk.corpus import stopwords\n",
    "from nltk.stem import WordNetLemmatizer\n",
    "from nltk.corpus import words\n",
    "from difflib import get_close_matches\n"
   ]
  },
  {
   "cell_type": "markdown",
   "metadata": {
    "cell_id": "4795dc42fc5743ab865fc77a63febe1a",
    "deepnote_cell_type": "markdown"
   },
   "source": [
    "## Preprocessing"
   ]
  },
  {
   "cell_type": "code",
   "execution_count": 44,
   "metadata": {
    "cell_id": "da666525c4634be8ae702c285a7cb394",
    "deepnote_cell_type": "code",
    "execution_context_id": "d1da7b4b-2f51-4f3e-813a-eb1312f0ae6d",
    "execution_millis": 0,
    "execution_start": 1731335711279,
    "source_hash": "ebb47f7c"
   },
   "outputs": [],
   "source": [
    "def encode_sentiment(rating, sentiment_type='positive'):\n",
    "    match sentiment_type:\n",
    "        case 'positive':\n",
    "            return rating > 3\n",
    "        case 'ambiguous':\n",
    "            return rating == 3\n",
    "        case 'negative':\n",
    "            return rating < 3\n",
    "        \n",
    "def label_category(df):\n",
    "    max_i = np.argmax(np.array([df['positive'], df['ambiguous'], df['negative']]))\n",
    "    match max_i:\n",
    "        case 0:\n",
    "            return 'positive'\n",
    "        case 1:\n",
    "            return 'ambiguous'\n",
    "        case 2:\n",
    "            return 'negative'\n",
    "\n",
    "# Preload the words corpus into a set for faster checking\n",
    "words_set = set(words.words())\n",
    "\n",
    "def checkSpelling(word):\n",
    "    # Fix contractions in the word\n",
    "    word = contractions.fix(word)\n",
    "    \n",
    "    # Clean the word\n",
    "    clean_word = re.sub(r'[^\\w]', '', word.lower())\n",
    "    \n",
    "    # Check if the word is in the dictionary\n",
    "    if clean_word and clean_word not in words_set:\n",
    "        # Get the best match\n",
    "        suggestions = get_close_matches(clean_word, words_set, n=1, cutoff=0.8)\n",
    "        return suggestions[0] if suggestions else clean_word\n",
    "    else:\n",
    "        return clean_word\n",
    "\n",
    "# Preload stopwords and initialize lemmatizer\n",
    "stop_words = set(stopwords.words('english'))\n",
    "lemmatizer = WordNetLemmatizer()\n",
    "\n",
    "def correct_text(text):\n",
    "    # -----------------------------------\n",
    "    # Contractions & Spelling\n",
    "    # -----------------------------------\n",
    "    words = text.split()\n",
    "    corrected_words = [checkSpelling(word) for word in words]\n",
    "    text = ' '.join(corrected_words)\n",
    "\n",
    "    # -----------------------------------\n",
    "    # Cleaning and Normalization\n",
    "    # -----------------------------------\n",
    "    # Removing special characters\n",
    "    text = re.sub(r'[^\\w\\s]', '', text)\n",
    "    \n",
    "    # Removing Stopwords\n",
    "    words = text.split()\n",
    "    filtered_words = [word for word in words if word not in stop_words]\n",
    "    \n",
    "    # Lemmatization\n",
    "    lemmatized_words = [lemmatizer.lemmatize(word) for word in filtered_words]\n",
    "    \n",
    "    return ' '.join(lemmatized_words)\n",
    "\n",
    "    return text\n",
    "\n",
    "def get_data(path, numrows=200):\n",
    "    # -----------------------------------\n",
    "    # preprocessing\n",
    "    # -----------------------------------\n",
    "    data = pd.read_csv(path, header=0) # loading the data into a pandas dataframe\n",
    "    data.dropna(inplace=True) # encoding the data\n",
    "    # consider only the first numrows rows\n",
    "    data = data.iloc[0:numrows,:]\n",
    "    # clearing the data\n",
    "    data['Reviews'] = data['Reviews'].apply(correct_text) # correcting text\n",
    "    # encoding sentiments\n",
    "    data['positive'] = data['Rating'].apply(encode_sentiment, sentiment_type='positive')\n",
    "    data['ambiguous'] = data['Rating'].apply(encode_sentiment, sentiment_type='ambiguous')\n",
    "    data['negative'] = data['Rating'].apply(encode_sentiment, sentiment_type='negative')\n",
    "    # putting necessary data into a new dataframe\n",
    "    data.rename(columns = {'Reviews':'review'}, inplace = True)\n",
    "    cleandata = data[['review', 'positive', 'ambiguous', 'negative']] # only necessary columns\n",
    "    cleandata['label'] = data.apply(label_category, axis=1)\n",
    "    cleandata = cleandata.iloc[0:numrows,:] # only first numrows rows\n",
    "    return cleandata"
   ]
  },
  {
   "cell_type": "code",
   "execution_count": 45,
   "metadata": {
    "cell_id": "fa0ed9d38f4e4a7081c6e4c6d7854779",
    "deepnote_cell_type": "code",
    "execution_context_id": "d1da7b4b-2f51-4f3e-813a-eb1312f0ae6d",
    "execution_millis": 0,
    "execution_start": 1731335711323,
    "source_hash": "2379dbe0"
   },
   "outputs": [],
   "source": [
    "def split_dataset(dataset, test_size=0.2):\n",
    "    dataset_training, dataset_test = train_test_split(dataset, test_size=test_size, random_state=0)\n",
    "    return dataset_training, dataset_test"
   ]
  },
  {
   "cell_type": "code",
   "execution_count": 46,
   "metadata": {
    "cell_id": "09dc41325adc41e3b38088d1fcafefc8",
    "deepnote_cell_type": "code",
    "execution_context_id": "d1da7b4b-2f51-4f3e-813a-eb1312f0ae6d",
    "execution_millis": 0,
    "execution_start": 1731335711375,
    "source_hash": "dcdbd78e"
   },
   "outputs": [],
   "source": [
    "def tokenize_text(\n",
    "        text_training,\n",
    "        text_testing,\n",
    "        vocab_size=10000,\n",
    "        max_length=100,\n",
    "        padding_type='post',\n",
    "        trunc_type='post',\n",
    "        oov_tok=\"<OOV>\"\n",
    "        ):\n",
    "    tokenizer = Tokenizer(num_words=vocab_size, oov_token=oov_tok)\n",
    "    tokenizer.fit_on_texts(text_training)\n",
    "\n",
    "    processedText_training = np.array(pad_sequences(tokenizer.texts_to_sequences(text_training), maxlen=max_length, padding=padding_type, truncating=trunc_type))\n",
    "    processedText_testing = np.array(pad_sequences(tokenizer.texts_to_sequences(text_testing), maxlen=max_length, padding=padding_type, truncating=trunc_type))\n",
    "\n",
    "    return processedText_training, processedText_testing"
   ]
  },
  {
   "cell_type": "markdown",
   "metadata": {},
   "source": [
    "### ML"
   ]
  },
  {
   "cell_type": "code",
   "execution_count": 47,
   "metadata": {},
   "outputs": [],
   "source": [
    "def tuneAndFit_mlModel(\n",
    "    model,\n",
    "    tuning_params,\n",
    "    textvectors_training,\n",
    "    labels_training,\n",
    "    cv=5,\n",
    "    verbose_level=1\n",
    "    ):\n",
    "\n",
    "    gridsearch = GridSearchCV(\n",
    "        model,\n",
    "        param_grid=tuning_params,\n",
    "        cv=cv,\n",
    "        verbose=verbose_level\n",
    "    )\n",
    "    gridsearch.fit(textvectors_training, labels_training)\n",
    "    \n",
    "    return gridsearch.best_estimator_\n"
   ]
  },
  {
   "cell_type": "markdown",
   "metadata": {
    "cell_id": "8531a0957e1a46ac962eb1f04cc2c509",
    "deepnote_cell_type": "markdown"
   },
   "source": [
    "### Neural Networks"
   ]
  },
  {
   "cell_type": "code",
   "execution_count": 48,
   "metadata": {
    "cell_id": "1a280f1bcf6d488ca9738f7a4b1b008b",
    "deepnote_cell_type": "code",
    "execution_context_id": "d1da7b4b-2f51-4f3e-813a-eb1312f0ae6d",
    "execution_millis": 0,
    "execution_start": 1731335711467,
    "source_hash": "59cb449a"
   },
   "outputs": [],
   "source": [
    "def modelBuilder_mlp(\n",
    "    hp,\n",
    "    vocab_size = 10000,\n",
    "    opt = 'adam',\n",
    "    loss_fun = 'binary_crossentropy',\n",
    "    acc = ['accuracy']\n",
    "    ):\n",
    "\n",
    "    hp_embedding_dim = hp.Int('embedding_dim', min_value=8, max_value=40 , step=8)\n",
    "    hp_max_length = hp.Int('input_length', min_value=80, max_value=120, step=10)\n",
    "    hp_activationFunction_dense1 = hp.Choice('activation_dense', values=['relu', 'sigmoid', 'tanh'])\n",
    "    hp_activationFunction_dense2 = hp.Choice('activation_dense', values=['relu', 'sigmoid', 'tanh'])\n",
    "\n",
    "    model_mlp = Sequential([\n",
    "        Embedding(vocab_size, hp_embedding_dim, input_length=hp_max_length),\n",
    "        GlobalAveragePooling1D(),\n",
    "        Dense(24, activation=hp_activationFunction_dense1),\n",
    "        Dense(3, activation=hp_activationFunction_dense2)\n",
    "        ])\n",
    "    model_mlp.compile(\n",
    "        optimizer = opt,\n",
    "        loss = loss_fun,\n",
    "        metrics = acc\n",
    "        )\n",
    "    \n",
    "    return model_mlp"
   ]
  },
  {
   "cell_type": "code",
   "execution_count": 49,
   "metadata": {
    "cell_id": "22ec50b14a754404a4ab094e893411d0",
    "deepnote_cell_type": "code",
    "execution_context_id": "d1da7b4b-2f51-4f3e-813a-eb1312f0ae6d",
    "execution_millis": 0,
    "execution_start": 1731335711519,
    "source_hash": "9a225d78"
   },
   "outputs": [],
   "source": [
    "def modelBuilder_cnn(\n",
    "    hp,\n",
    "    vocab_size = 10000,\n",
    "    opt = 'adam',\n",
    "    loss_fun = 'binary_crossentropy',\n",
    "    acc = ['accuracy']\n",
    "    ):\n",
    "\n",
    "    hp_embedding_dim = hp.Int('embedding_dim', min_value=8, max_value=40 , step=8)\n",
    "    hp_max_length = hp.Int('input_length', min_value=80, max_value=120, step=10)\n",
    "    hp_filters = hp.Int('filters', min_value=2, max_value=10, step=2)\n",
    "    hp_units = hp.Int('units', min_value=2, max_value=16, step=2)\n",
    "    hp_activation_conv = hp.Choice('activation_conv', values=['relu', 'sigmoid', 'tanh'])\n",
    "    hp_activation_dense = hp.Choice('activation_dense', values=['relu', 'sigmoid', 'tanh'])\n",
    "\n",
    "    model_cnn = Sequential([\n",
    "        Embedding(vocab_size, hp_embedding_dim, input_length=hp_max_length),\n",
    "        Conv1D(filters=hp_filters, kernel_size=3, activation=hp_activation_conv, name=\"Conv1D\"),\n",
    "        AveragePooling1D(pool_size=3),\n",
    "        Flatten(),\n",
    "        Dense(units=hp_units, activation=hp_activation_dense),\n",
    "        Dense(3, activation='sigmoid', name=\"Outpul_layer\")\n",
    "        ])\n",
    "    model_cnn.compile(\n",
    "        optimizer = opt,\n",
    "        loss = loss_fun,\n",
    "        metrics = acc\n",
    "        )\n",
    "    \n",
    "    return model_cnn"
   ]
  },
  {
   "cell_type": "code",
   "execution_count": 50,
   "metadata": {},
   "outputs": [],
   "source": [
    "def modelBuilder_lstm(\n",
    "    hp,\n",
    "    vocab_size = 10000,\n",
    "    opt = 'adam',\n",
    "    loss_fun = 'binary_crossentropy',\n",
    "    acc = ['accuracy']\n",
    "    ):\n",
    "\n",
    "    hp_embedding_dim = hp.Int('embedding_dim', min_value=8, max_value=40 , step=8)\n",
    "    hp_max_length = hp.Int('input_length', min_value=80, max_value=120, step=10)\n",
    "    hp_dropoutRate = hp.Float('dropout_rate', min_value=0.1, max_value=0.5, step=0.1)\n",
    "    hp_lstmUnits_1 = hp.Int('units_lstm1', min_value=16, max_value=40, step=8)\n",
    "\n",
    "    model_lstm = Sequential([\n",
    "        Embedding(vocab_size, hp_embedding_dim, input_length=hp_max_length),\n",
    "        #GlobalAveragePooling1D(),\n",
    "        LSTM(units=hp_lstmUnits_1, return_sequences = True),\n",
    "        Dropout(hp_dropoutRate),\n",
    "        LSTM(16, return_sequences = True),\n",
    "        Dropout(hp_dropoutRate),\n",
    "        LSTM(8),\n",
    "        Dropout(hp_dropoutRate),\n",
    "        Dense(3, name=\"Outpul_layer\")\n",
    "        ])\n",
    "    model_lstm.compile(\n",
    "        optimizer = opt,\n",
    "        loss = loss_fun,\n",
    "        metrics = acc\n",
    "        )\n",
    "    \n",
    "    return model_lstm"
   ]
  },
  {
   "cell_type": "code",
   "execution_count": 51,
   "metadata": {
    "cell_id": "c41381ae4eda471f9c9743c45cf1a323",
    "deepnote_cell_type": "code",
    "execution_context_id": "d1da7b4b-2f51-4f3e-813a-eb1312f0ae6d",
    "execution_millis": 0,
    "execution_start": 1731335711419,
    "source_hash": "24bef17a"
   },
   "outputs": [],
   "source": [
    "def tune_nn(\n",
    "        model_builder,\n",
    "        text_training,\n",
    "        labels_training,\n",
    "        tuner_objective = 'val_accuracy',\n",
    "        tuner_maxEpochs = 10,\n",
    "        tuner_factor = 3,\n",
    "        search_numEpochs = 30,\n",
    "        search_callbacks = [EarlyStopping(monitor='val_loss', patience=5)],\n",
    "        validationSplit = 0.1,\n",
    "        search_verbose = 2,\n",
    "    ):\n",
    "\n",
    "    tuner = kt.Hyperband(\n",
    "        model_builder,\n",
    "        objective=tuner_objective,\n",
    "        max_epochs=tuner_maxEpochs,\n",
    "        factor=tuner_factor,\n",
    "        )\n",
    "\n",
    "    tuner.search(\n",
    "        text_training,\n",
    "        labels_training.to_numpy().reshape(len(labels_training), 3),\n",
    "        validation_split=validationSplit,\n",
    "        epochs=search_numEpochs,\n",
    "        callbacks=search_callbacks,\n",
    "        verbose=search_verbose\n",
    "        )\n",
    "    \n",
    "    hyperparameters_best = tuner.get_best_hyperparameters(num_trials=1)[0]\n",
    "\n",
    "    model_tuned = tuner.hypermodel.build(hyperparameters_best)\n",
    "\n",
    "    return model_tuned"
   ]
  },
  {
   "cell_type": "code",
   "execution_count": 52,
   "metadata": {},
   "outputs": [],
   "source": [
    "def fit_nn(\n",
    "    model,\n",
    "    text_training,\n",
    "    labels_training,\n",
    "    validationSplit = 0.1,\n",
    "    numEpochs = 30,\n",
    "    verboseLevel = 2\n",
    "    ):\n",
    "\n",
    "    history = model.fit(\n",
    "        text_training,\n",
    "        labels_training.to_numpy().reshape(len(labels_training), 3),\n",
    "        validation_split=validationSplit,\n",
    "        epochs=numEpochs,\n",
    "        verbose=verboseLevel\n",
    "        )\n",
    "\n",
    "    fig = plt.figure()\n",
    "    fig.add_subplot(121)\n",
    "    plt.plot(history.history['loss'])\n",
    "    plt.plot(history.history['val_loss'])\n",
    "    plt.title(\"Loss vs Epochs\")\n",
    "    plt.ylabel('Loss')\n",
    "    plt.xlabel('Epoch')\n",
    "    plt.legend(['Training', 'Validation'], loc='upper right')\n",
    "    fig.add_subplot(122)\n",
    "    plt.plot(history.history['accuracy'])\n",
    "    plt.plot(history.history['val_accuracy'])\n",
    "    plt.title(\"Accuracy vs Epochs\")\n",
    "    plt.ylabel('Accuracy')\n",
    "    plt.xlabel('Epoch')\n",
    "    plt.legend(['Training', 'Validation'], loc='upper right')\n",
    "    plt.show()\n",
    "\n",
    "    return model"
   ]
  },
  {
   "cell_type": "markdown",
   "metadata": {},
   "source": [
    "### Models evaluation"
   ]
  },
  {
   "cell_type": "code",
   "execution_count": 53,
   "metadata": {},
   "outputs": [],
   "source": [
    "def evaluate_model(\n",
    "    model,\n",
    "    text_testing,\n",
    "    labels_testing,\n",
    "    model_outputIsMultidimensional=False\n",
    "    ):\n",
    "\n",
    "    predictions = model.predict(text_testing)\n",
    "    if model_outputIsMultidimensional:\n",
    "        predictions_df = pd.DataFrame(\n",
    "            predictions,\n",
    "            columns=['positive', 'ambiguous', 'negative']\n",
    "            )\n",
    "        predictions_df['category'] = predictions_df.apply(label_category, axis=1)\n",
    "    else:\n",
    "        predictions_df = pd.DataFrame(\n",
    "            predictions,\n",
    "            columns=['category']\n",
    "            )\n",
    "\n",
    "    measurements = pd.DataFrame.from_dict(\n",
    "        classification_report(\n",
    "            labels_testing,\n",
    "            predictions_df['category'],\n",
    "            output_dict=True,\n",
    "            target_names=np.array(['positive', 'ambiguous', 'negative'])\n",
    "        )\n",
    "    )\n",
    "\n",
    "    return predictions_df['category'].tolist(), measurements"
   ]
  },
  {
   "cell_type": "markdown",
   "metadata": {
    "cell_id": "038c604edb594d028ac496c49499f330",
    "deepnote_cell_type": "markdown"
   },
   "source": [
    "## Running the application"
   ]
  },
  {
   "cell_type": "markdown",
   "metadata": {},
   "source": [
    "### Data preprocessing"
   ]
  },
  {
   "cell_type": "markdown",
   "metadata": {},
   "source": [
    "#### Importing the data"
   ]
  },
  {
   "cell_type": "code",
   "execution_count": 54,
   "metadata": {
    "cell_id": "546c0ae8d16c4cd293d69aca30c69797",
    "deepnote_cell_type": "code",
    "execution_context_id": "d1da7b4b-2f51-4f3e-813a-eb1312f0ae6d",
    "execution_millis": 4333,
    "execution_start": 1731335711663,
    "source_hash": "6ff92069"
   },
   "outputs": [
    {
     "name": "stderr",
     "output_type": "stream",
     "text": [
      "C:\\Users\\efren\\AppData\\Local\\Temp\\ipykernel_60428\\2318560532.py:84: SettingWithCopyWarning: \n",
      "A value is trying to be set on a copy of a slice from a DataFrame.\n",
      "Try using .loc[row_indexer,col_indexer] = value instead\n",
      "\n",
      "See the caveats in the documentation: https://pandas.pydata.org/pandas-docs/stable/user_guide/indexing.html#returning-a-view-versus-a-copy\n",
      "  cleandata['label'] = data.apply(label_category, axis=1)\n"
     ]
    }
   ],
   "source": [
    "dataset = get_data(\"datasets/Amazon_Unlocked_Mobile.csv\", 300)\n",
    "dataset_training, dataset_testing = split_dataset(dataset)"
   ]
  },
  {
   "cell_type": "markdown",
   "metadata": {},
   "source": [
    "#### Tokenizing the text"
   ]
  },
  {
   "cell_type": "code",
   "execution_count": 55,
   "metadata": {
    "cell_id": "9c065bd0ce0848098ad13d2e5fed94e4",
    "deepnote_cell_type": "code",
    "execution_context_id": "d1da7b4b-2f51-4f3e-813a-eb1312f0ae6d",
    "execution_millis": 74,
    "execution_start": 1731335716047,
    "source_hash": "7eb8fa6a"
   },
   "outputs": [],
   "source": [
    "vocab_size = 10000\n",
    "textvectors_training, textvectors_testing = tokenize_text(dataset_training['review'], dataset_testing['review'])"
   ]
  },
  {
   "cell_type": "markdown",
   "metadata": {},
   "source": [
    "#### Organizing labels"
   ]
  },
  {
   "cell_type": "code",
   "execution_count": 56,
   "metadata": {},
   "outputs": [],
   "source": [
    "labels_perCategory_training = dataset_training[['positive', 'ambiguous', 'negative']]\n",
    "labels_perCategory_testing =  dataset_testing[['positive', 'ambiguous', 'negative']]\n",
    "\n",
    "predictions = pd.DataFrame(dataset_testing['label'])\n",
    "predictions = predictions.rename(columns={'label': 'real'})"
   ]
  },
  {
   "cell_type": "markdown",
   "metadata": {},
   "source": [
    "### Building and training models"
   ]
  },
  {
   "cell_type": "markdown",
   "metadata": {},
   "source": [
    "#### ML models"
   ]
  },
  {
   "cell_type": "code",
   "execution_count": 57,
   "metadata": {},
   "outputs": [
    {
     "name": "stdout",
     "output_type": "stream",
     "text": [
      "Fitting 5 folds for each of 8 candidates, totalling 40 fits\n"
     ]
    }
   ],
   "source": [
    "svm_tuned = tuneAndFit_mlModel(\n",
    "    model=svm.SVC(),\n",
    "    tuning_params={\n",
    "        'kernel': [\"poly\"],\n",
    "        'degree': [1,2,3,4],\n",
    "        'coef0': [1,2]\n",
    "    },\n",
    "    textvectors_training=textvectors_training,\n",
    "    labels_training=dataset_training['label']\n",
    ")"
   ]
  },
  {
   "cell_type": "code",
   "execution_count": 58,
   "metadata": {},
   "outputs": [
    {
     "name": "stdout",
     "output_type": "stream",
     "text": [
      "Fitting 5 folds for each of 10 candidates, totalling 50 fits\n"
     ]
    }
   ],
   "source": [
    "dt_tuned = tuneAndFit_mlModel(\n",
    "    model=DecisionTreeClassifier(),\n",
    "    tuning_params={\n",
    "        'criterion': [\"gini\", 'entropy'],\n",
    "        'max_depth': [5, 10, 20, 30, None]\n",
    "    },\n",
    "    textvectors_training=textvectors_training,\n",
    "    labels_training=dataset_training['label']\n",
    ")"
   ]
  },
  {
   "cell_type": "code",
   "execution_count": 59,
   "metadata": {},
   "outputs": [
    {
     "name": "stdout",
     "output_type": "stream",
     "text": [
      "Fitting 5 folds for each of 14 candidates, totalling 70 fits\n"
     ]
    },
    {
     "name": "stderr",
     "output_type": "stream",
     "text": [
      "c:\\Users\\efren\\Documents\\GitHub\\Projects\\venvNLP_AlgorithmComparison\\Lib\\site-packages\\sklearn\\linear_model\\_logistic.py:469: ConvergenceWarning: lbfgs failed to converge (status=1):\n",
      "STOP: TOTAL NO. of ITERATIONS REACHED LIMIT.\n",
      "\n",
      "Increase the number of iterations (max_iter) or scale the data as shown in:\n",
      "    https://scikit-learn.org/stable/modules/preprocessing.html\n",
      "Please also refer to the documentation for alternative solver options:\n",
      "    https://scikit-learn.org/stable/modules/linear_model.html#logistic-regression\n",
      "  n_iter_i = _check_optimize_result(\n",
      "c:\\Users\\efren\\Documents\\GitHub\\Projects\\venvNLP_AlgorithmComparison\\Lib\\site-packages\\sklearn\\linear_model\\_logistic.py:469: ConvergenceWarning: lbfgs failed to converge (status=1):\n",
      "STOP: TOTAL NO. of ITERATIONS REACHED LIMIT.\n",
      "\n",
      "Increase the number of iterations (max_iter) or scale the data as shown in:\n",
      "    https://scikit-learn.org/stable/modules/preprocessing.html\n",
      "Please also refer to the documentation for alternative solver options:\n",
      "    https://scikit-learn.org/stable/modules/linear_model.html#logistic-regression\n",
      "  n_iter_i = _check_optimize_result(\n",
      "c:\\Users\\efren\\Documents\\GitHub\\Projects\\venvNLP_AlgorithmComparison\\Lib\\site-packages\\sklearn\\linear_model\\_logistic.py:469: ConvergenceWarning: lbfgs failed to converge (status=1):\n",
      "STOP: TOTAL NO. of ITERATIONS REACHED LIMIT.\n",
      "\n",
      "Increase the number of iterations (max_iter) or scale the data as shown in:\n",
      "    https://scikit-learn.org/stable/modules/preprocessing.html\n",
      "Please also refer to the documentation for alternative solver options:\n",
      "    https://scikit-learn.org/stable/modules/linear_model.html#logistic-regression\n",
      "  n_iter_i = _check_optimize_result(\n",
      "c:\\Users\\efren\\Documents\\GitHub\\Projects\\venvNLP_AlgorithmComparison\\Lib\\site-packages\\sklearn\\linear_model\\_logistic.py:469: ConvergenceWarning: lbfgs failed to converge (status=1):\n",
      "STOP: TOTAL NO. of ITERATIONS REACHED LIMIT.\n",
      "\n",
      "Increase the number of iterations (max_iter) or scale the data as shown in:\n",
      "    https://scikit-learn.org/stable/modules/preprocessing.html\n",
      "Please also refer to the documentation for alternative solver options:\n",
      "    https://scikit-learn.org/stable/modules/linear_model.html#logistic-regression\n",
      "  n_iter_i = _check_optimize_result(\n",
      "c:\\Users\\efren\\Documents\\GitHub\\Projects\\venvNLP_AlgorithmComparison\\Lib\\site-packages\\sklearn\\linear_model\\_logistic.py:469: ConvergenceWarning: lbfgs failed to converge (status=1):\n",
      "STOP: TOTAL NO. of ITERATIONS REACHED LIMIT.\n",
      "\n",
      "Increase the number of iterations (max_iter) or scale the data as shown in:\n",
      "    https://scikit-learn.org/stable/modules/preprocessing.html\n",
      "Please also refer to the documentation for alternative solver options:\n",
      "    https://scikit-learn.org/stable/modules/linear_model.html#logistic-regression\n",
      "  n_iter_i = _check_optimize_result(\n",
      "c:\\Users\\efren\\Documents\\GitHub\\Projects\\venvNLP_AlgorithmComparison\\Lib\\site-packages\\sklearn\\linear_model\\_logistic.py:469: ConvergenceWarning: lbfgs failed to converge (status=1):\n",
      "STOP: TOTAL NO. of ITERATIONS REACHED LIMIT.\n",
      "\n",
      "Increase the number of iterations (max_iter) or scale the data as shown in:\n",
      "    https://scikit-learn.org/stable/modules/preprocessing.html\n",
      "Please also refer to the documentation for alternative solver options:\n",
      "    https://scikit-learn.org/stable/modules/linear_model.html#logistic-regression\n",
      "  n_iter_i = _check_optimize_result(\n",
      "c:\\Users\\efren\\Documents\\GitHub\\Projects\\venvNLP_AlgorithmComparison\\Lib\\site-packages\\sklearn\\linear_model\\_logistic.py:469: ConvergenceWarning: lbfgs failed to converge (status=1):\n",
      "STOP: TOTAL NO. of ITERATIONS REACHED LIMIT.\n",
      "\n",
      "Increase the number of iterations (max_iter) or scale the data as shown in:\n",
      "    https://scikit-learn.org/stable/modules/preprocessing.html\n",
      "Please also refer to the documentation for alternative solver options:\n",
      "    https://scikit-learn.org/stable/modules/linear_model.html#logistic-regression\n",
      "  n_iter_i = _check_optimize_result(\n",
      "c:\\Users\\efren\\Documents\\GitHub\\Projects\\venvNLP_AlgorithmComparison\\Lib\\site-packages\\sklearn\\linear_model\\_logistic.py:469: ConvergenceWarning: lbfgs failed to converge (status=1):\n",
      "STOP: TOTAL NO. of ITERATIONS REACHED LIMIT.\n",
      "\n",
      "Increase the number of iterations (max_iter) or scale the data as shown in:\n",
      "    https://scikit-learn.org/stable/modules/preprocessing.html\n",
      "Please also refer to the documentation for alternative solver options:\n",
      "    https://scikit-learn.org/stable/modules/linear_model.html#logistic-regression\n",
      "  n_iter_i = _check_optimize_result(\n",
      "c:\\Users\\efren\\Documents\\GitHub\\Projects\\venvNLP_AlgorithmComparison\\Lib\\site-packages\\sklearn\\linear_model\\_logistic.py:469: ConvergenceWarning: lbfgs failed to converge (status=1):\n",
      "STOP: TOTAL NO. of ITERATIONS REACHED LIMIT.\n",
      "\n",
      "Increase the number of iterations (max_iter) or scale the data as shown in:\n",
      "    https://scikit-learn.org/stable/modules/preprocessing.html\n",
      "Please also refer to the documentation for alternative solver options:\n",
      "    https://scikit-learn.org/stable/modules/linear_model.html#logistic-regression\n",
      "  n_iter_i = _check_optimize_result(\n",
      "c:\\Users\\efren\\Documents\\GitHub\\Projects\\venvNLP_AlgorithmComparison\\Lib\\site-packages\\sklearn\\linear_model\\_logistic.py:469: ConvergenceWarning: lbfgs failed to converge (status=1):\n",
      "STOP: TOTAL NO. of ITERATIONS REACHED LIMIT.\n",
      "\n",
      "Increase the number of iterations (max_iter) or scale the data as shown in:\n",
      "    https://scikit-learn.org/stable/modules/preprocessing.html\n",
      "Please also refer to the documentation for alternative solver options:\n",
      "    https://scikit-learn.org/stable/modules/linear_model.html#logistic-regression\n",
      "  n_iter_i = _check_optimize_result(\n",
      "c:\\Users\\efren\\Documents\\GitHub\\Projects\\venvNLP_AlgorithmComparison\\Lib\\site-packages\\sklearn\\linear_model\\_logistic.py:469: ConvergenceWarning: lbfgs failed to converge (status=1):\n",
      "STOP: TOTAL NO. of ITERATIONS REACHED LIMIT.\n",
      "\n",
      "Increase the number of iterations (max_iter) or scale the data as shown in:\n",
      "    https://scikit-learn.org/stable/modules/preprocessing.html\n",
      "Please also refer to the documentation for alternative solver options:\n",
      "    https://scikit-learn.org/stable/modules/linear_model.html#logistic-regression\n",
      "  n_iter_i = _check_optimize_result(\n",
      "c:\\Users\\efren\\Documents\\GitHub\\Projects\\venvNLP_AlgorithmComparison\\Lib\\site-packages\\sklearn\\linear_model\\_logistic.py:469: ConvergenceWarning: lbfgs failed to converge (status=1):\n",
      "STOP: TOTAL NO. of ITERATIONS REACHED LIMIT.\n",
      "\n",
      "Increase the number of iterations (max_iter) or scale the data as shown in:\n",
      "    https://scikit-learn.org/stable/modules/preprocessing.html\n",
      "Please also refer to the documentation for alternative solver options:\n",
      "    https://scikit-learn.org/stable/modules/linear_model.html#logistic-regression\n",
      "  n_iter_i = _check_optimize_result(\n",
      "c:\\Users\\efren\\Documents\\GitHub\\Projects\\venvNLP_AlgorithmComparison\\Lib\\site-packages\\sklearn\\linear_model\\_logistic.py:469: ConvergenceWarning: lbfgs failed to converge (status=1):\n",
      "STOP: TOTAL NO. of ITERATIONS REACHED LIMIT.\n",
      "\n",
      "Increase the number of iterations (max_iter) or scale the data as shown in:\n",
      "    https://scikit-learn.org/stable/modules/preprocessing.html\n",
      "Please also refer to the documentation for alternative solver options:\n",
      "    https://scikit-learn.org/stable/modules/linear_model.html#logistic-regression\n",
      "  n_iter_i = _check_optimize_result(\n",
      "c:\\Users\\efren\\Documents\\GitHub\\Projects\\venvNLP_AlgorithmComparison\\Lib\\site-packages\\sklearn\\linear_model\\_logistic.py:469: ConvergenceWarning: lbfgs failed to converge (status=1):\n",
      "STOP: TOTAL NO. of ITERATIONS REACHED LIMIT.\n",
      "\n",
      "Increase the number of iterations (max_iter) or scale the data as shown in:\n",
      "    https://scikit-learn.org/stable/modules/preprocessing.html\n",
      "Please also refer to the documentation for alternative solver options:\n",
      "    https://scikit-learn.org/stable/modules/linear_model.html#logistic-regression\n",
      "  n_iter_i = _check_optimize_result(\n",
      "c:\\Users\\efren\\Documents\\GitHub\\Projects\\venvNLP_AlgorithmComparison\\Lib\\site-packages\\sklearn\\linear_model\\_logistic.py:469: ConvergenceWarning: lbfgs failed to converge (status=1):\n",
      "STOP: TOTAL NO. of ITERATIONS REACHED LIMIT.\n",
      "\n",
      "Increase the number of iterations (max_iter) or scale the data as shown in:\n",
      "    https://scikit-learn.org/stable/modules/preprocessing.html\n",
      "Please also refer to the documentation for alternative solver options:\n",
      "    https://scikit-learn.org/stable/modules/linear_model.html#logistic-regression\n",
      "  n_iter_i = _check_optimize_result(\n",
      "c:\\Users\\efren\\Documents\\GitHub\\Projects\\venvNLP_AlgorithmComparison\\Lib\\site-packages\\sklearn\\linear_model\\_logistic.py:469: ConvergenceWarning: lbfgs failed to converge (status=1):\n",
      "STOP: TOTAL NO. of ITERATIONS REACHED LIMIT.\n",
      "\n",
      "Increase the number of iterations (max_iter) or scale the data as shown in:\n",
      "    https://scikit-learn.org/stable/modules/preprocessing.html\n",
      "Please also refer to the documentation for alternative solver options:\n",
      "    https://scikit-learn.org/stable/modules/linear_model.html#logistic-regression\n",
      "  n_iter_i = _check_optimize_result(\n",
      "c:\\Users\\efren\\Documents\\GitHub\\Projects\\venvNLP_AlgorithmComparison\\Lib\\site-packages\\sklearn\\linear_model\\_logistic.py:469: ConvergenceWarning: lbfgs failed to converge (status=1):\n",
      "STOP: TOTAL NO. of ITERATIONS REACHED LIMIT.\n",
      "\n",
      "Increase the number of iterations (max_iter) or scale the data as shown in:\n",
      "    https://scikit-learn.org/stable/modules/preprocessing.html\n",
      "Please also refer to the documentation for alternative solver options:\n",
      "    https://scikit-learn.org/stable/modules/linear_model.html#logistic-regression\n",
      "  n_iter_i = _check_optimize_result(\n",
      "c:\\Users\\efren\\Documents\\GitHub\\Projects\\venvNLP_AlgorithmComparison\\Lib\\site-packages\\sklearn\\linear_model\\_logistic.py:469: ConvergenceWarning: lbfgs failed to converge (status=1):\n",
      "STOP: TOTAL NO. of ITERATIONS REACHED LIMIT.\n",
      "\n",
      "Increase the number of iterations (max_iter) or scale the data as shown in:\n",
      "    https://scikit-learn.org/stable/modules/preprocessing.html\n",
      "Please also refer to the documentation for alternative solver options:\n",
      "    https://scikit-learn.org/stable/modules/linear_model.html#logistic-regression\n",
      "  n_iter_i = _check_optimize_result(\n",
      "c:\\Users\\efren\\Documents\\GitHub\\Projects\\venvNLP_AlgorithmComparison\\Lib\\site-packages\\sklearn\\linear_model\\_logistic.py:469: ConvergenceWarning: lbfgs failed to converge (status=1):\n",
      "STOP: TOTAL NO. of ITERATIONS REACHED LIMIT.\n",
      "\n",
      "Increase the number of iterations (max_iter) or scale the data as shown in:\n",
      "    https://scikit-learn.org/stable/modules/preprocessing.html\n",
      "Please also refer to the documentation for alternative solver options:\n",
      "    https://scikit-learn.org/stable/modules/linear_model.html#logistic-regression\n",
      "  n_iter_i = _check_optimize_result(\n",
      "c:\\Users\\efren\\Documents\\GitHub\\Projects\\venvNLP_AlgorithmComparison\\Lib\\site-packages\\sklearn\\linear_model\\_logistic.py:469: ConvergenceWarning: lbfgs failed to converge (status=1):\n",
      "STOP: TOTAL NO. of ITERATIONS REACHED LIMIT.\n",
      "\n",
      "Increase the number of iterations (max_iter) or scale the data as shown in:\n",
      "    https://scikit-learn.org/stable/modules/preprocessing.html\n",
      "Please also refer to the documentation for alternative solver options:\n",
      "    https://scikit-learn.org/stable/modules/linear_model.html#logistic-regression\n",
      "  n_iter_i = _check_optimize_result(\n",
      "c:\\Users\\efren\\Documents\\GitHub\\Projects\\venvNLP_AlgorithmComparison\\Lib\\site-packages\\sklearn\\linear_model\\_logistic.py:469: ConvergenceWarning: lbfgs failed to converge (status=1):\n",
      "STOP: TOTAL NO. of ITERATIONS REACHED LIMIT.\n",
      "\n",
      "Increase the number of iterations (max_iter) or scale the data as shown in:\n",
      "    https://scikit-learn.org/stable/modules/preprocessing.html\n",
      "Please also refer to the documentation for alternative solver options:\n",
      "    https://scikit-learn.org/stable/modules/linear_model.html#logistic-regression\n",
      "  n_iter_i = _check_optimize_result(\n",
      "c:\\Users\\efren\\Documents\\GitHub\\Projects\\venvNLP_AlgorithmComparison\\Lib\\site-packages\\sklearn\\linear_model\\_logistic.py:469: ConvergenceWarning: lbfgs failed to converge (status=1):\n",
      "STOP: TOTAL NO. of ITERATIONS REACHED LIMIT.\n",
      "\n",
      "Increase the number of iterations (max_iter) or scale the data as shown in:\n",
      "    https://scikit-learn.org/stable/modules/preprocessing.html\n",
      "Please also refer to the documentation for alternative solver options:\n",
      "    https://scikit-learn.org/stable/modules/linear_model.html#logistic-regression\n",
      "  n_iter_i = _check_optimize_result(\n",
      "c:\\Users\\efren\\Documents\\GitHub\\Projects\\venvNLP_AlgorithmComparison\\Lib\\site-packages\\sklearn\\linear_model\\_logistic.py:469: ConvergenceWarning: lbfgs failed to converge (status=1):\n",
      "STOP: TOTAL NO. of ITERATIONS REACHED LIMIT.\n",
      "\n",
      "Increase the number of iterations (max_iter) or scale the data as shown in:\n",
      "    https://scikit-learn.org/stable/modules/preprocessing.html\n",
      "Please also refer to the documentation for alternative solver options:\n",
      "    https://scikit-learn.org/stable/modules/linear_model.html#logistic-regression\n",
      "  n_iter_i = _check_optimize_result(\n",
      "c:\\Users\\efren\\Documents\\GitHub\\Projects\\venvNLP_AlgorithmComparison\\Lib\\site-packages\\sklearn\\linear_model\\_logistic.py:469: ConvergenceWarning: lbfgs failed to converge (status=1):\n",
      "STOP: TOTAL NO. of ITERATIONS REACHED LIMIT.\n",
      "\n",
      "Increase the number of iterations (max_iter) or scale the data as shown in:\n",
      "    https://scikit-learn.org/stable/modules/preprocessing.html\n",
      "Please also refer to the documentation for alternative solver options:\n",
      "    https://scikit-learn.org/stable/modules/linear_model.html#logistic-regression\n",
      "  n_iter_i = _check_optimize_result(\n",
      "c:\\Users\\efren\\Documents\\GitHub\\Projects\\venvNLP_AlgorithmComparison\\Lib\\site-packages\\sklearn\\linear_model\\_logistic.py:469: ConvergenceWarning: lbfgs failed to converge (status=1):\n",
      "STOP: TOTAL NO. of ITERATIONS REACHED LIMIT.\n",
      "\n",
      "Increase the number of iterations (max_iter) or scale the data as shown in:\n",
      "    https://scikit-learn.org/stable/modules/preprocessing.html\n",
      "Please also refer to the documentation for alternative solver options:\n",
      "    https://scikit-learn.org/stable/modules/linear_model.html#logistic-regression\n",
      "  n_iter_i = _check_optimize_result(\n",
      "c:\\Users\\efren\\Documents\\GitHub\\Projects\\venvNLP_AlgorithmComparison\\Lib\\site-packages\\sklearn\\linear_model\\_logistic.py:469: ConvergenceWarning: lbfgs failed to converge (status=1):\n",
      "STOP: TOTAL NO. of ITERATIONS REACHED LIMIT.\n",
      "\n",
      "Increase the number of iterations (max_iter) or scale the data as shown in:\n",
      "    https://scikit-learn.org/stable/modules/preprocessing.html\n",
      "Please also refer to the documentation for alternative solver options:\n",
      "    https://scikit-learn.org/stable/modules/linear_model.html#logistic-regression\n",
      "  n_iter_i = _check_optimize_result(\n",
      "c:\\Users\\efren\\Documents\\GitHub\\Projects\\venvNLP_AlgorithmComparison\\Lib\\site-packages\\sklearn\\linear_model\\_logistic.py:469: ConvergenceWarning: lbfgs failed to converge (status=1):\n",
      "STOP: TOTAL NO. of ITERATIONS REACHED LIMIT.\n",
      "\n",
      "Increase the number of iterations (max_iter) or scale the data as shown in:\n",
      "    https://scikit-learn.org/stable/modules/preprocessing.html\n",
      "Please also refer to the documentation for alternative solver options:\n",
      "    https://scikit-learn.org/stable/modules/linear_model.html#logistic-regression\n",
      "  n_iter_i = _check_optimize_result(\n",
      "c:\\Users\\efren\\Documents\\GitHub\\Projects\\venvNLP_AlgorithmComparison\\Lib\\site-packages\\sklearn\\linear_model\\_logistic.py:469: ConvergenceWarning: lbfgs failed to converge (status=1):\n",
      "STOP: TOTAL NO. of ITERATIONS REACHED LIMIT.\n",
      "\n",
      "Increase the number of iterations (max_iter) or scale the data as shown in:\n",
      "    https://scikit-learn.org/stable/modules/preprocessing.html\n",
      "Please also refer to the documentation for alternative solver options:\n",
      "    https://scikit-learn.org/stable/modules/linear_model.html#logistic-regression\n",
      "  n_iter_i = _check_optimize_result(\n",
      "c:\\Users\\efren\\Documents\\GitHub\\Projects\\venvNLP_AlgorithmComparison\\Lib\\site-packages\\sklearn\\linear_model\\_logistic.py:469: ConvergenceWarning: lbfgs failed to converge (status=1):\n",
      "STOP: TOTAL NO. of ITERATIONS REACHED LIMIT.\n",
      "\n",
      "Increase the number of iterations (max_iter) or scale the data as shown in:\n",
      "    https://scikit-learn.org/stable/modules/preprocessing.html\n",
      "Please also refer to the documentation for alternative solver options:\n",
      "    https://scikit-learn.org/stable/modules/linear_model.html#logistic-regression\n",
      "  n_iter_i = _check_optimize_result(\n",
      "c:\\Users\\efren\\Documents\\GitHub\\Projects\\venvNLP_AlgorithmComparison\\Lib\\site-packages\\sklearn\\linear_model\\_logistic.py:469: ConvergenceWarning: lbfgs failed to converge (status=1):\n",
      "STOP: TOTAL NO. of ITERATIONS REACHED LIMIT.\n",
      "\n",
      "Increase the number of iterations (max_iter) or scale the data as shown in:\n",
      "    https://scikit-learn.org/stable/modules/preprocessing.html\n",
      "Please also refer to the documentation for alternative solver options:\n",
      "    https://scikit-learn.org/stable/modules/linear_model.html#logistic-regression\n",
      "  n_iter_i = _check_optimize_result(\n",
      "c:\\Users\\efren\\Documents\\GitHub\\Projects\\venvNLP_AlgorithmComparison\\Lib\\site-packages\\sklearn\\linear_model\\_logistic.py:469: ConvergenceWarning: lbfgs failed to converge (status=1):\n",
      "STOP: TOTAL NO. of ITERATIONS REACHED LIMIT.\n",
      "\n",
      "Increase the number of iterations (max_iter) or scale the data as shown in:\n",
      "    https://scikit-learn.org/stable/modules/preprocessing.html\n",
      "Please also refer to the documentation for alternative solver options:\n",
      "    https://scikit-learn.org/stable/modules/linear_model.html#logistic-regression\n",
      "  n_iter_i = _check_optimize_result(\n",
      "c:\\Users\\efren\\Documents\\GitHub\\Projects\\venvNLP_AlgorithmComparison\\Lib\\site-packages\\sklearn\\linear_model\\_logistic.py:469: ConvergenceWarning: lbfgs failed to converge (status=1):\n",
      "STOP: TOTAL NO. of ITERATIONS REACHED LIMIT.\n",
      "\n",
      "Increase the number of iterations (max_iter) or scale the data as shown in:\n",
      "    https://scikit-learn.org/stable/modules/preprocessing.html\n",
      "Please also refer to the documentation for alternative solver options:\n",
      "    https://scikit-learn.org/stable/modules/linear_model.html#logistic-regression\n",
      "  n_iter_i = _check_optimize_result(\n",
      "c:\\Users\\efren\\Documents\\GitHub\\Projects\\venvNLP_AlgorithmComparison\\Lib\\site-packages\\sklearn\\linear_model\\_logistic.py:469: ConvergenceWarning: lbfgs failed to converge (status=1):\n",
      "STOP: TOTAL NO. of ITERATIONS REACHED LIMIT.\n",
      "\n",
      "Increase the number of iterations (max_iter) or scale the data as shown in:\n",
      "    https://scikit-learn.org/stable/modules/preprocessing.html\n",
      "Please also refer to the documentation for alternative solver options:\n",
      "    https://scikit-learn.org/stable/modules/linear_model.html#logistic-regression\n",
      "  n_iter_i = _check_optimize_result(\n",
      "c:\\Users\\efren\\Documents\\GitHub\\Projects\\venvNLP_AlgorithmComparison\\Lib\\site-packages\\sklearn\\linear_model\\_logistic.py:469: ConvergenceWarning: lbfgs failed to converge (status=1):\n",
      "STOP: TOTAL NO. of ITERATIONS REACHED LIMIT.\n",
      "\n",
      "Increase the number of iterations (max_iter) or scale the data as shown in:\n",
      "    https://scikit-learn.org/stable/modules/preprocessing.html\n",
      "Please also refer to the documentation for alternative solver options:\n",
      "    https://scikit-learn.org/stable/modules/linear_model.html#logistic-regression\n",
      "  n_iter_i = _check_optimize_result(\n",
      "c:\\Users\\efren\\Documents\\GitHub\\Projects\\venvNLP_AlgorithmComparison\\Lib\\site-packages\\sklearn\\linear_model\\_logistic.py:469: ConvergenceWarning: lbfgs failed to converge (status=1):\n",
      "STOP: TOTAL NO. of ITERATIONS REACHED LIMIT.\n",
      "\n",
      "Increase the number of iterations (max_iter) or scale the data as shown in:\n",
      "    https://scikit-learn.org/stable/modules/preprocessing.html\n",
      "Please also refer to the documentation for alternative solver options:\n",
      "    https://scikit-learn.org/stable/modules/linear_model.html#logistic-regression\n",
      "  n_iter_i = _check_optimize_result(\n",
      "c:\\Users\\efren\\Documents\\GitHub\\Projects\\venvNLP_AlgorithmComparison\\Lib\\site-packages\\sklearn\\model_selection\\_validation.py:540: FitFailedWarning: \n",
      "35 fits failed out of a total of 70.\n",
      "The score on these train-test partitions for these parameters will be set to nan.\n",
      "If these failures are not expected, you can try to debug them by setting error_score='raise'.\n",
      "\n",
      "Below are more details about the failures:\n",
      "--------------------------------------------------------------------------------\n",
      "35 fits failed with the following error:\n",
      "Traceback (most recent call last):\n",
      "  File \"c:\\Users\\efren\\Documents\\GitHub\\Projects\\venvNLP_AlgorithmComparison\\Lib\\site-packages\\sklearn\\model_selection\\_validation.py\", line 888, in _fit_and_score\n",
      "    estimator.fit(X_train, y_train, **fit_params)\n",
      "  File \"c:\\Users\\efren\\Documents\\GitHub\\Projects\\venvNLP_AlgorithmComparison\\Lib\\site-packages\\sklearn\\base.py\", line 1473, in wrapper\n",
      "    return fit_method(estimator, *args, **kwargs)\n",
      "           ^^^^^^^^^^^^^^^^^^^^^^^^^^^^^^^^^^^^^^\n",
      "  File \"c:\\Users\\efren\\Documents\\GitHub\\Projects\\venvNLP_AlgorithmComparison\\Lib\\site-packages\\sklearn\\linear_model\\_logistic.py\", line 1194, in fit\n",
      "    solver = _check_solver(self.solver, self.penalty, self.dual)\n",
      "             ^^^^^^^^^^^^^^^^^^^^^^^^^^^^^^^^^^^^^^^^^^^^^^^^^^^\n",
      "  File \"c:\\Users\\efren\\Documents\\GitHub\\Projects\\venvNLP_AlgorithmComparison\\Lib\\site-packages\\sklearn\\linear_model\\_logistic.py\", line 67, in _check_solver\n",
      "    raise ValueError(\n",
      "ValueError: Solver lbfgs supports only 'l2' or None penalties, got l1 penalty.\n",
      "\n",
      "  warnings.warn(some_fits_failed_message, FitFailedWarning)\n",
      "c:\\Users\\efren\\Documents\\GitHub\\Projects\\venvNLP_AlgorithmComparison\\Lib\\site-packages\\sklearn\\model_selection\\_search.py:1103: UserWarning: One or more of the test scores are non-finite: [       nan 0.56666667        nan 0.56666667        nan 0.56666667\n",
      "        nan 0.57083333        nan 0.57083333        nan 0.57083333\n",
      "        nan 0.575     ]\n",
      "  warnings.warn(\n",
      "c:\\Users\\efren\\Documents\\GitHub\\Projects\\venvNLP_AlgorithmComparison\\Lib\\site-packages\\sklearn\\linear_model\\_logistic.py:469: ConvergenceWarning: lbfgs failed to converge (status=1):\n",
      "STOP: TOTAL NO. of ITERATIONS REACHED LIMIT.\n",
      "\n",
      "Increase the number of iterations (max_iter) or scale the data as shown in:\n",
      "    https://scikit-learn.org/stable/modules/preprocessing.html\n",
      "Please also refer to the documentation for alternative solver options:\n",
      "    https://scikit-learn.org/stable/modules/linear_model.html#logistic-regression\n",
      "  n_iter_i = _check_optimize_result(\n"
     ]
    }
   ],
   "source": [
    "lr_tuned = tuneAndFit_mlModel(\n",
    "    model=LogisticRegression(),\n",
    "    tuning_params={\n",
    "        \"C\":np.logspace(-3,3,7),\n",
    "        \"penalty\":[\"l1\",\"l2\"]\n",
    "    },\n",
    "    textvectors_training=textvectors_training,\n",
    "    labels_training=dataset_training['label']\n",
    ")"
   ]
  },
  {
   "cell_type": "code",
   "execution_count": 60,
   "metadata": {},
   "outputs": [
    {
     "name": "stdout",
     "output_type": "stream",
     "text": [
      "Fitting 5 folds for each of 16 candidates, totalling 80 fits\n"
     ]
    }
   ],
   "source": [
    "rf_tuned = tuneAndFit_mlModel(\n",
    "    model=RandomForestClassifier(),\n",
    "    tuning_params={\n",
    "        'n_estimators': [100, 200],\n",
    "        'criterion': ['gini', 'entropy'],\n",
    "        'max_depth': [3,7],\n",
    "        'max_leaf_nodes' : [10, 30]\n",
    "    },\n",
    "    textvectors_training=textvectors_training,\n",
    "    labels_training=dataset_training['label']\n",
    ")"
   ]
  },
  {
   "cell_type": "markdown",
   "metadata": {},
   "source": [
    "#### Neural networks"
   ]
  },
  {
   "cell_type": "code",
   "execution_count": 61,
   "metadata": {},
   "outputs": [
    {
     "name": "stdout",
     "output_type": "stream",
     "text": [
      "Reloading Tuner from .\\untitled_project\\tuner0.json\n"
     ]
    },
    {
     "name": "stderr",
     "output_type": "stream",
     "text": [
      "c:\\Users\\efren\\Documents\\GitHub\\Projects\\venvNLP_AlgorithmComparison\\Lib\\site-packages\\keras\\src\\layers\\core\\embedding.py:90: UserWarning: Argument `input_length` is deprecated. Just remove it.\n",
      "  warnings.warn(\n"
     ]
    }
   ],
   "source": [
    "mlp_tuned = tune_nn(\n",
    "    modelBuilder_mlp,\n",
    "    text_training=textvectors_training,\n",
    "    labels_training=labels_perCategory_training,\n",
    "    validationSplit=0.1\n",
    "    )"
   ]
  },
  {
   "cell_type": "code",
   "execution_count": 62,
   "metadata": {},
   "outputs": [
    {
     "name": "stdout",
     "output_type": "stream",
     "text": [
      "Epoch 1/30\n",
      "7/7 - 2s - 264ms/step - accuracy: 0.5648 - loss: 1.7780 - val_accuracy: 0.7500 - val_loss: 1.5272\n",
      "Epoch 2/30\n",
      "7/7 - 0s - 9ms/step - accuracy: 0.6620 - loss: 1.5700 - val_accuracy: 0.7500 - val_loss: 1.4699\n",
      "Epoch 3/30\n",
      "7/7 - 0s - 9ms/step - accuracy: 0.6620 - loss: 1.5477 - val_accuracy: 0.7500 - val_loss: 1.4335\n",
      "Epoch 4/30\n",
      "7/7 - 0s - 9ms/step - accuracy: 0.6620 - loss: 1.5386 - val_accuracy: 0.7500 - val_loss: 1.4092\n",
      "Epoch 5/30\n",
      "7/7 - 0s - 9ms/step - accuracy: 0.6620 - loss: 1.5346 - val_accuracy: 0.7500 - val_loss: 1.4081\n",
      "Epoch 6/30\n",
      "7/7 - 0s - 9ms/step - accuracy: 0.6620 - loss: 1.5283 - val_accuracy: 0.7500 - val_loss: 1.4185\n",
      "Epoch 7/30\n",
      "7/7 - 0s - 11ms/step - accuracy: 0.6620 - loss: 1.5241 - val_accuracy: 0.7500 - val_loss: 1.4209\n",
      "Epoch 8/30\n",
      "7/7 - 0s - 9ms/step - accuracy: 0.6620 - loss: 1.5219 - val_accuracy: 0.7500 - val_loss: 1.4169\n",
      "Epoch 9/30\n",
      "7/7 - 0s - 9ms/step - accuracy: 0.6620 - loss: 1.5191 - val_accuracy: 0.7500 - val_loss: 1.4114\n",
      "Epoch 10/30\n",
      "7/7 - 0s - 8ms/step - accuracy: 0.6620 - loss: 1.5170 - val_accuracy: 0.7500 - val_loss: 1.4072\n",
      "Epoch 11/30\n",
      "7/7 - 0s - 9ms/step - accuracy: 0.6620 - loss: 1.5150 - val_accuracy: 0.7500 - val_loss: 1.4094\n",
      "Epoch 12/30\n",
      "7/7 - 0s - 9ms/step - accuracy: 0.6620 - loss: 1.5131 - val_accuracy: 0.7500 - val_loss: 1.4053\n",
      "Epoch 13/30\n",
      "7/7 - 0s - 9ms/step - accuracy: 0.6620 - loss: 1.5111 - val_accuracy: 0.7500 - val_loss: 1.4067\n",
      "Epoch 14/30\n",
      "7/7 - 0s - 10ms/step - accuracy: 0.6620 - loss: 1.5098 - val_accuracy: 0.7500 - val_loss: 1.4010\n",
      "Epoch 15/30\n",
      "7/7 - 0s - 10ms/step - accuracy: 0.6620 - loss: 1.5065 - val_accuracy: 0.7500 - val_loss: 1.4056\n",
      "Epoch 16/30\n",
      "7/7 - 0s - 8ms/step - accuracy: 0.6620 - loss: 1.5040 - val_accuracy: 0.7500 - val_loss: 1.4024\n",
      "Epoch 17/30\n",
      "7/7 - 0s - 11ms/step - accuracy: 0.6620 - loss: 1.5018 - val_accuracy: 0.7500 - val_loss: 1.3961\n",
      "Epoch 18/30\n",
      "7/7 - 0s - 9ms/step - accuracy: 0.6620 - loss: 1.4998 - val_accuracy: 0.7500 - val_loss: 1.3964\n",
      "Epoch 19/30\n",
      "7/7 - 0s - 9ms/step - accuracy: 0.6620 - loss: 1.4974 - val_accuracy: 0.7500 - val_loss: 1.4067\n",
      "Epoch 20/30\n",
      "7/7 - 0s - 11ms/step - accuracy: 0.6620 - loss: 1.4949 - val_accuracy: 0.7500 - val_loss: 1.3959\n",
      "Epoch 21/30\n",
      "7/7 - 0s - 10ms/step - accuracy: 0.6620 - loss: 1.4912 - val_accuracy: 0.7500 - val_loss: 1.3890\n",
      "Epoch 22/30\n",
      "7/7 - 0s - 12ms/step - accuracy: 0.6620 - loss: 1.4901 - val_accuracy: 0.7500 - val_loss: 1.3997\n",
      "Epoch 23/30\n",
      "7/7 - 0s - 8ms/step - accuracy: 0.6620 - loss: 1.4867 - val_accuracy: 0.7500 - val_loss: 1.3952\n",
      "Epoch 24/30\n",
      "7/7 - 0s - 9ms/step - accuracy: 0.6620 - loss: 1.4828 - val_accuracy: 0.7500 - val_loss: 1.3881\n",
      "Epoch 25/30\n",
      "7/7 - 0s - 10ms/step - accuracy: 0.6620 - loss: 1.4798 - val_accuracy: 0.7500 - val_loss: 1.3908\n",
      "Epoch 26/30\n",
      "7/7 - 0s - 8ms/step - accuracy: 0.6620 - loss: 1.4763 - val_accuracy: 0.7500 - val_loss: 1.3886\n",
      "Epoch 27/30\n",
      "7/7 - 0s - 9ms/step - accuracy: 0.6620 - loss: 1.4742 - val_accuracy: 0.7500 - val_loss: 1.3859\n",
      "Epoch 28/30\n",
      "7/7 - 0s - 9ms/step - accuracy: 0.6620 - loss: 1.4693 - val_accuracy: 0.7500 - val_loss: 1.3935\n",
      "Epoch 29/30\n",
      "7/7 - 0s - 10ms/step - accuracy: 0.6620 - loss: 1.4647 - val_accuracy: 0.7500 - val_loss: 1.3824\n",
      "Epoch 30/30\n",
      "7/7 - 0s - 9ms/step - accuracy: 0.6620 - loss: 1.4606 - val_accuracy: 0.7500 - val_loss: 1.3855\n"
     ]
    },
    {
     "data": {
      "image/png": "[encoded data removed]",
      "text/plain": [
       "<Figure size 640x480 with 2 Axes>"
      ]
     },
     "metadata": {},
     "output_type": "display_data"
    },
    {
     "data": {
      "text/plain": [
       "<Sequential name=sequential, built=True>"
      ]
     },
     "execution_count": 62,
     "metadata": {},
     "output_type": "execute_result"
    }
   ],
   "source": [
    "fit_nn(\n",
    "    mlp_tuned,\n",
    "    text_training=textvectors_training,\n",
    "    labels_training=labels_perCategory_training,\n",
    "    validationSplit=0.1\n",
    ")"
   ]
  },
  {
   "cell_type": "code",
   "execution_count": 63,
   "metadata": {},
   "outputs": [
    {
     "name": "stdout",
     "output_type": "stream",
     "text": [
      "Reloading Tuner from .\\untitled_project\\tuner0.json\n"
     ]
    }
   ],
   "source": [
    "cnn_tuned = tune_nn(\n",
    "    modelBuilder_cnn,\n",
    "    text_training=textvectors_training,\n",
    "    labels_training=labels_perCategory_training,\n",
    "    validationSplit=0.1\n",
    "    )"
   ]
  },
  {
   "cell_type": "code",
   "execution_count": 64,
   "metadata": {},
   "outputs": [
    {
     "name": "stdout",
     "output_type": "stream",
     "text": [
      "Epoch 1/30\n",
      "7/7 - 2s - 269ms/step - accuracy: 0.6620 - loss: 0.6624 - val_accuracy: 0.7500 - val_loss: 0.6082\n",
      "Epoch 2/30\n",
      "7/7 - 0s - 12ms/step - accuracy: 0.6620 - loss: 0.6306 - val_accuracy: 0.7500 - val_loss: 0.5801\n",
      "Epoch 3/30\n",
      "7/7 - 0s - 10ms/step - accuracy: 0.6620 - loss: 0.6247 - val_accuracy: 0.7500 - val_loss: 0.5740\n",
      "Epoch 4/30\n",
      "7/7 - 0s - 11ms/step - accuracy: 0.6620 - loss: 0.6197 - val_accuracy: 0.7500 - val_loss: 0.5721\n",
      "Epoch 5/30\n",
      "7/7 - 0s - 11ms/step - accuracy: 0.6620 - loss: 0.6130 - val_accuracy: 0.7500 - val_loss: 0.5724\n",
      "Epoch 6/30\n",
      "7/7 - 0s - 11ms/step - accuracy: 0.6620 - loss: 0.6076 - val_accuracy: 0.7500 - val_loss: 0.5703\n",
      "Epoch 7/30\n",
      "7/7 - 0s - 11ms/step - accuracy: 0.6620 - loss: 0.6017 - val_accuracy: 0.7500 - val_loss: 0.5645\n",
      "Epoch 8/30\n",
      "7/7 - 0s - 9ms/step - accuracy: 0.6620 - loss: 0.5951 - val_accuracy: 0.7500 - val_loss: 0.5601\n",
      "Epoch 9/30\n",
      "7/7 - 0s - 10ms/step - accuracy: 0.6620 - loss: 0.5876 - val_accuracy: 0.7500 - val_loss: 0.5468\n",
      "Epoch 10/30\n",
      "7/7 - 0s - 12ms/step - accuracy: 0.6620 - loss: 0.5774 - val_accuracy: 0.7500 - val_loss: 0.5351\n",
      "Epoch 11/30\n",
      "7/7 - 0s - 11ms/step - accuracy: 0.6620 - loss: 0.5669 - val_accuracy: 0.7500 - val_loss: 0.5275\n",
      "Epoch 12/30\n",
      "7/7 - 0s - 11ms/step - accuracy: 0.6620 - loss: 0.5561 - val_accuracy: 0.7500 - val_loss: 0.5204\n",
      "Epoch 13/30\n",
      "7/7 - 0s - 9ms/step - accuracy: 0.6620 - loss: 0.5445 - val_accuracy: 0.7500 - val_loss: 0.5063\n",
      "Epoch 14/30\n",
      "7/7 - 0s - 11ms/step - accuracy: 0.6620 - loss: 0.5327 - val_accuracy: 0.7500 - val_loss: 0.4936\n",
      "Epoch 15/30\n",
      "7/7 - 0s - 10ms/step - accuracy: 0.6620 - loss: 0.5219 - val_accuracy: 0.7500 - val_loss: 0.4852\n",
      "Epoch 16/30\n",
      "7/7 - 0s - 9ms/step - accuracy: 0.6620 - loss: 0.5127 - val_accuracy: 0.7500 - val_loss: 0.4726\n",
      "Epoch 17/30\n",
      "7/7 - 0s - 10ms/step - accuracy: 0.6620 - loss: 0.5048 - val_accuracy: 0.7500 - val_loss: 0.4642\n",
      "Epoch 18/30\n",
      "7/7 - 0s - 9ms/step - accuracy: 0.6620 - loss: 0.4958 - val_accuracy: 0.7500 - val_loss: 0.4622\n",
      "Epoch 19/30\n",
      "7/7 - 0s - 13ms/step - accuracy: 0.6620 - loss: 0.4881 - val_accuracy: 0.7500 - val_loss: 0.4570\n",
      "Epoch 20/30\n",
      "7/7 - 0s - 11ms/step - accuracy: 0.6620 - loss: 0.4804 - val_accuracy: 0.7500 - val_loss: 0.4531\n",
      "Epoch 21/30\n",
      "7/7 - 0s - 9ms/step - accuracy: 0.6620 - loss: 0.4735 - val_accuracy: 0.7500 - val_loss: 0.4526\n",
      "Epoch 22/30\n",
      "7/7 - 0s - 15ms/step - accuracy: 0.6620 - loss: 0.4661 - val_accuracy: 0.7500 - val_loss: 0.4450\n",
      "Epoch 23/30\n",
      "7/7 - 0s - 19ms/step - accuracy: 0.6620 - loss: 0.4583 - val_accuracy: 0.7500 - val_loss: 0.4420\n",
      "Epoch 24/30\n",
      "7/7 - 0s - 12ms/step - accuracy: 0.6713 - loss: 0.4510 - val_accuracy: 0.7500 - val_loss: 0.4390\n",
      "Epoch 25/30\n",
      "7/7 - 0s - 9ms/step - accuracy: 0.6713 - loss: 0.4432 - val_accuracy: 0.7500 - val_loss: 0.4337\n",
      "Epoch 26/30\n",
      "7/7 - 0s - 12ms/step - accuracy: 0.6759 - loss: 0.4362 - val_accuracy: 0.7500 - val_loss: 0.4330\n",
      "Epoch 27/30\n",
      "7/7 - 0s - 11ms/step - accuracy: 0.6806 - loss: 0.4289 - val_accuracy: 0.7500 - val_loss: 0.4311\n",
      "Epoch 28/30\n",
      "7/7 - 0s - 9ms/step - accuracy: 0.6806 - loss: 0.4211 - val_accuracy: 0.7500 - val_loss: 0.4292\n",
      "Epoch 29/30\n",
      "7/7 - 0s - 9ms/step - accuracy: 0.6806 - loss: 0.4143 - val_accuracy: 0.7500 - val_loss: 0.4285\n",
      "Epoch 30/30\n",
      "7/7 - 0s - 9ms/step - accuracy: 0.6852 - loss: 0.4062 - val_accuracy: 0.7500 - val_loss: 0.4249\n"
     ]
    },
    {
     "data": {
      "image/png": "[encoded data removed]",
      "text/plain": [
       "<Figure size 640x480 with 2 Axes>"
      ]
     },
     "metadata": {},
     "output_type": "display_data"
    },
    {
     "data": {
      "text/plain": [
       "<Sequential name=sequential_1, built=True>"
      ]
     },
     "execution_count": 64,
     "metadata": {},
     "output_type": "execute_result"
    }
   ],
   "source": [
    "fit_nn(\n",
    "    cnn_tuned,\n",
    "    text_training=textvectors_training,\n",
    "    labels_training=labels_perCategory_training,\n",
    "    validationSplit=0.1\n",
    ")"
   ]
  },
  {
   "cell_type": "code",
   "execution_count": 65,
   "metadata": {},
   "outputs": [
    {
     "name": "stdout",
     "output_type": "stream",
     "text": [
      "Reloading Tuner from .\\untitled_project\\tuner0.json\n"
     ]
    }
   ],
   "source": [
    "lstm_tuned = tune_nn(\n",
    "    modelBuilder_lstm,\n",
    "    text_training=textvectors_training,\n",
    "    labels_training=labels_perCategory_training,\n",
    "    validationSplit=0.1\n",
    "    )"
   ]
  },
  {
   "cell_type": "code",
   "execution_count": 66,
   "metadata": {},
   "outputs": [
    {
     "name": "stdout",
     "output_type": "stream",
     "text": [
      "Epoch 1/30\n",
      "7/7 - 6s - 862ms/step - accuracy: 0.1944 - loss: 3.5025 - val_accuracy: 0.2083 - val_loss: 1.1095\n",
      "Epoch 2/30\n",
      "7/7 - 0s - 55ms/step - accuracy: 0.2593 - loss: 1.0187 - val_accuracy: 0.2917 - val_loss: 0.7381\n",
      "Epoch 3/30\n",
      "7/7 - 0s - 53ms/step - accuracy: 0.5417 - loss: 0.8478 - val_accuracy: 0.7500 - val_loss: 0.6363\n",
      "Epoch 4/30\n",
      "7/7 - 0s - 52ms/step - accuracy: 0.6065 - loss: 0.7378 - val_accuracy: 0.7500 - val_loss: 0.5739\n",
      "Epoch 5/30\n",
      "7/7 - 0s - 49ms/step - accuracy: 0.5972 - loss: 0.7200 - val_accuracy: 0.7500 - val_loss: 0.5293\n",
      "Epoch 6/30\n",
      "7/7 - 0s - 52ms/step - accuracy: 0.6157 - loss: 0.6866 - val_accuracy: 0.7500 - val_loss: 0.5001\n",
      "Epoch 7/30\n",
      "7/7 - 0s - 49ms/step - accuracy: 0.6343 - loss: 0.5777 - val_accuracy: 0.7500 - val_loss: 0.4838\n",
      "Epoch 8/30\n",
      "7/7 - 0s - 49ms/step - accuracy: 0.6620 - loss: 0.6177 - val_accuracy: 0.7500 - val_loss: 0.4698\n",
      "Epoch 9/30\n",
      "7/7 - 0s - 58ms/step - accuracy: 0.6528 - loss: 0.6463 - val_accuracy: 0.7500 - val_loss: 0.4614\n",
      "Epoch 10/30\n",
      "7/7 - 0s - 49ms/step - accuracy: 0.6713 - loss: 0.6193 - val_accuracy: 0.7500 - val_loss: 0.4570\n",
      "Epoch 11/30\n",
      "7/7 - 0s - 52ms/step - accuracy: 0.6481 - loss: 0.6361 - val_accuracy: 0.7500 - val_loss: 0.4580\n",
      "Epoch 12/30\n",
      "7/7 - 0s - 48ms/step - accuracy: 0.6528 - loss: 0.5827 - val_accuracy: 0.7500 - val_loss: 0.4604\n",
      "Epoch 13/30\n",
      "7/7 - 0s - 49ms/step - accuracy: 0.6481 - loss: 0.6812 - val_accuracy: 0.7500 - val_loss: 0.4614\n",
      "Epoch 14/30\n",
      "7/7 - 0s - 54ms/step - accuracy: 0.6435 - loss: 0.6320 - val_accuracy: 0.7500 - val_loss: 0.4560\n",
      "Epoch 15/30\n",
      "7/7 - 0s - 51ms/step - accuracy: 0.6574 - loss: 0.6633 - val_accuracy: 0.7500 - val_loss: 0.4497\n",
      "Epoch 16/30\n",
      "7/7 - 0s - 51ms/step - accuracy: 0.6481 - loss: 0.5863 - val_accuracy: 0.7500 - val_loss: 0.4493\n",
      "Epoch 17/30\n",
      "7/7 - 0s - 50ms/step - accuracy: 0.6481 - loss: 0.6213 - val_accuracy: 0.7500 - val_loss: 0.4510\n",
      "Epoch 18/30\n",
      "7/7 - 0s - 55ms/step - accuracy: 0.6481 - loss: 0.5615 - val_accuracy: 0.7500 - val_loss: 0.4536\n",
      "Epoch 19/30\n",
      "7/7 - 0s - 47ms/step - accuracy: 0.6620 - loss: 0.6474 - val_accuracy: 0.7500 - val_loss: 0.4504\n",
      "Epoch 20/30\n",
      "7/7 - 0s - 51ms/step - accuracy: 0.6528 - loss: 0.6554 - val_accuracy: 0.7500 - val_loss: 0.4463\n",
      "Epoch 21/30\n",
      "7/7 - 0s - 51ms/step - accuracy: 0.6528 - loss: 0.6218 - val_accuracy: 0.7500 - val_loss: 0.4521\n",
      "Epoch 22/30\n",
      "7/7 - 0s - 51ms/step - accuracy: 0.6574 - loss: 0.6527 - val_accuracy: 0.7500 - val_loss: 0.4564\n",
      "Epoch 23/30\n",
      "7/7 - 0s - 50ms/step - accuracy: 0.6435 - loss: 0.6515 - val_accuracy: 0.7500 - val_loss: 0.4550\n",
      "Epoch 24/30\n",
      "7/7 - 0s - 51ms/step - accuracy: 0.6481 - loss: 0.6109 - val_accuracy: 0.7500 - val_loss: 0.4574\n",
      "Epoch 25/30\n",
      "7/7 - 0s - 51ms/step - accuracy: 0.6574 - loss: 0.6007 - val_accuracy: 0.7500 - val_loss: 0.4555\n",
      "Epoch 26/30\n",
      "7/7 - 0s - 50ms/step - accuracy: 0.6481 - loss: 0.6127 - val_accuracy: 0.7500 - val_loss: 0.4566\n",
      "Epoch 27/30\n",
      "7/7 - 0s - 51ms/step - accuracy: 0.6343 - loss: 0.6011 - val_accuracy: 0.7500 - val_loss: 0.4561\n",
      "Epoch 28/30\n",
      "7/7 - 0s - 51ms/step - accuracy: 0.6620 - loss: 0.5689 - val_accuracy: 0.7500 - val_loss: 0.4576\n",
      "Epoch 29/30\n",
      "7/7 - 0s - 54ms/step - accuracy: 0.6528 - loss: 0.6329 - val_accuracy: 0.7500 - val_loss: 0.4550\n",
      "Epoch 30/30\n",
      "7/7 - 0s - 51ms/step - accuracy: 0.6528 - loss: 0.5896 - val_accuracy: 0.7500 - val_loss: 0.4515\n"
     ]
    },
    {
     "data": {
      "image/png": "[encoded data removed]",
      "text/plain": [
       "<Figure size 640x480 with 2 Axes>"
      ]
     },
     "metadata": {},
     "output_type": "display_data"
    },
    {
     "data": {
      "text/plain": [
       "<Sequential name=sequential_2, built=True>"
      ]
     },
     "execution_count": 66,
     "metadata": {},
     "output_type": "execute_result"
    }
   ],
   "source": [
    "fit_nn(\n",
    "    lstm_tuned,\n",
    "    text_training=textvectors_training,\n",
    "    labels_training=labels_perCategory_training,\n",
    "    validationSplit=0.1\n",
    ")"
   ]
  },
  {
   "cell_type": "markdown",
   "metadata": {},
   "source": [
    "### Evaluating model performance"
   ]
  },
  {
   "cell_type": "code",
   "execution_count": 67,
   "metadata": {},
   "outputs": [
    {
     "name": "stderr",
     "output_type": "stream",
     "text": [
      "c:\\Users\\efren\\Documents\\GitHub\\Projects\\venvNLP_AlgorithmComparison\\Lib\\site-packages\\sklearn\\metrics\\_classification.py:1531: UndefinedMetricWarning: Precision is ill-defined and being set to 0.0 in labels with no predicted samples. Use `zero_division` parameter to control this behavior.\n",
      "  _warn_prf(average, modifier, f\"{metric.capitalize()} is\", len(result))\n",
      "c:\\Users\\efren\\Documents\\GitHub\\Projects\\venvNLP_AlgorithmComparison\\Lib\\site-packages\\sklearn\\metrics\\_classification.py:1531: UndefinedMetricWarning: Precision is ill-defined and being set to 0.0 in labels with no predicted samples. Use `zero_division` parameter to control this behavior.\n",
      "  _warn_prf(average, modifier, f\"{metric.capitalize()} is\", len(result))\n",
      "c:\\Users\\efren\\Documents\\GitHub\\Projects\\venvNLP_AlgorithmComparison\\Lib\\site-packages\\sklearn\\metrics\\_classification.py:1531: UndefinedMetricWarning: Precision is ill-defined and being set to 0.0 in labels with no predicted samples. Use `zero_division` parameter to control this behavior.\n",
      "  _warn_prf(average, modifier, f\"{metric.capitalize()} is\", len(result))\n"
     ]
    }
   ],
   "source": [
    "predictions['svm'], measurements_svm = evaluate_model(\n",
    "    model=svm_tuned,\n",
    "    text_testing=textvectors_testing,\n",
    "    labels_testing=predictions['real'],\n",
    "    model_outputIsMultidimensional=False\n",
    "    )"
   ]
  },
  {
   "cell_type": "code",
   "execution_count": 68,
   "metadata": {},
   "outputs": [],
   "source": [
    "predictions['dt'], measurements_dt = evaluate_model(\n",
    "    model=dt_tuned,\n",
    "    text_testing=textvectors_testing,\n",
    "    labels_testing=predictions['real'],\n",
    "    model_outputIsMultidimensional=False\n",
    "    )"
   ]
  },
  {
   "cell_type": "code",
   "execution_count": 69,
   "metadata": {},
   "outputs": [],
   "source": [
    "predictions['lr'], measurements_lr = evaluate_model(\n",
    "    model=lr_tuned,\n",
    "    text_testing=textvectors_testing,\n",
    "    labels_testing=predictions['real'],\n",
    "    model_outputIsMultidimensional=False\n",
    "    )"
   ]
  },
  {
   "cell_type": "code",
   "execution_count": 70,
   "metadata": {},
   "outputs": [
    {
     "name": "stderr",
     "output_type": "stream",
     "text": [
      "c:\\Users\\efren\\Documents\\GitHub\\Projects\\venvNLP_AlgorithmComparison\\Lib\\site-packages\\sklearn\\metrics\\_classification.py:1531: UndefinedMetricWarning: Precision is ill-defined and being set to 0.0 in labels with no predicted samples. Use `zero_division` parameter to control this behavior.\n",
      "  _warn_prf(average, modifier, f\"{metric.capitalize()} is\", len(result))\n",
      "c:\\Users\\efren\\Documents\\GitHub\\Projects\\venvNLP_AlgorithmComparison\\Lib\\site-packages\\sklearn\\metrics\\_classification.py:1531: UndefinedMetricWarning: Precision is ill-defined and being set to 0.0 in labels with no predicted samples. Use `zero_division` parameter to control this behavior.\n",
      "  _warn_prf(average, modifier, f\"{metric.capitalize()} is\", len(result))\n",
      "c:\\Users\\efren\\Documents\\GitHub\\Projects\\venvNLP_AlgorithmComparison\\Lib\\site-packages\\sklearn\\metrics\\_classification.py:1531: UndefinedMetricWarning: Precision is ill-defined and being set to 0.0 in labels with no predicted samples. Use `zero_division` parameter to control this behavior.\n",
      "  _warn_prf(average, modifier, f\"{metric.capitalize()} is\", len(result))\n"
     ]
    }
   ],
   "source": [
    "predictions['rf'], measurements_rf = evaluate_model(\n",
    "    model=rf_tuned,\n",
    "    text_testing=textvectors_testing,\n",
    "    labels_testing=predictions['real'],\n",
    "    model_outputIsMultidimensional=False\n",
    "    )"
   ]
  },
  {
   "cell_type": "code",
   "execution_count": 71,
   "metadata": {},
   "outputs": [
    {
     "name": "stdout",
     "output_type": "stream",
     "text": [
      "\u001b[1m2/2\u001b[0m \u001b[32m━━━━━━━━━━━━━━━━━━━━\u001b[0m\u001b[37m\u001b[0m \u001b[1m0s\u001b[0m 30ms/step\n"
     ]
    },
    {
     "name": "stderr",
     "output_type": "stream",
     "text": [
      "c:\\Users\\efren\\Documents\\GitHub\\Projects\\venvNLP_AlgorithmComparison\\Lib\\site-packages\\sklearn\\metrics\\_classification.py:1531: UndefinedMetricWarning: Precision is ill-defined and being set to 0.0 in labels with no predicted samples. Use `zero_division` parameter to control this behavior.\n",
      "  _warn_prf(average, modifier, f\"{metric.capitalize()} is\", len(result))\n",
      "c:\\Users\\efren\\Documents\\GitHub\\Projects\\venvNLP_AlgorithmComparison\\Lib\\site-packages\\sklearn\\metrics\\_classification.py:1531: UndefinedMetricWarning: Precision is ill-defined and being set to 0.0 in labels with no predicted samples. Use `zero_division` parameter to control this behavior.\n",
      "  _warn_prf(average, modifier, f\"{metric.capitalize()} is\", len(result))\n",
      "c:\\Users\\efren\\Documents\\GitHub\\Projects\\venvNLP_AlgorithmComparison\\Lib\\site-packages\\sklearn\\metrics\\_classification.py:1531: UndefinedMetricWarning: Precision is ill-defined and being set to 0.0 in labels with no predicted samples. Use `zero_division` parameter to control this behavior.\n",
      "  _warn_prf(average, modifier, f\"{metric.capitalize()} is\", len(result))\n"
     ]
    }
   ],
   "source": [
    "predictions['mlp'], measurements_mlp = evaluate_model(\n",
    "    model=mlp_tuned,\n",
    "    text_testing=textvectors_testing,\n",
    "    labels_testing=predictions['real'],\n",
    "    model_outputIsMultidimensional=True\n",
    "    )"
   ]
  },
  {
   "cell_type": "code",
   "execution_count": 72,
   "metadata": {},
   "outputs": [
    {
     "name": "stdout",
     "output_type": "stream",
     "text": [
      "\u001b[1m2/2\u001b[0m \u001b[32m━━━━━━━━━━━━━━━━━━━━\u001b[0m\u001b[37m\u001b[0m \u001b[1m0s\u001b[0m 84ms/step\n"
     ]
    },
    {
     "name": "stderr",
     "output_type": "stream",
     "text": [
      "c:\\Users\\efren\\Documents\\GitHub\\Projects\\venvNLP_AlgorithmComparison\\Lib\\site-packages\\sklearn\\metrics\\_classification.py:1531: UndefinedMetricWarning: Precision is ill-defined and being set to 0.0 in labels with no predicted samples. Use `zero_division` parameter to control this behavior.\n",
      "  _warn_prf(average, modifier, f\"{metric.capitalize()} is\", len(result))\n",
      "c:\\Users\\efren\\Documents\\GitHub\\Projects\\venvNLP_AlgorithmComparison\\Lib\\site-packages\\sklearn\\metrics\\_classification.py:1531: UndefinedMetricWarning: Precision is ill-defined and being set to 0.0 in labels with no predicted samples. Use `zero_division` parameter to control this behavior.\n",
      "  _warn_prf(average, modifier, f\"{metric.capitalize()} is\", len(result))\n",
      "c:\\Users\\efren\\Documents\\GitHub\\Projects\\venvNLP_AlgorithmComparison\\Lib\\site-packages\\sklearn\\metrics\\_classification.py:1531: UndefinedMetricWarning: Precision is ill-defined and being set to 0.0 in labels with no predicted samples. Use `zero_division` parameter to control this behavior.\n",
      "  _warn_prf(average, modifier, f\"{metric.capitalize()} is\", len(result))\n"
     ]
    }
   ],
   "source": [
    "predictions['cnn'], measurements_cnn = evaluate_model(\n",
    "    model=cnn_tuned,\n",
    "    text_testing=textvectors_testing,\n",
    "    labels_testing=predictions['real'],\n",
    "    model_outputIsMultidimensional=True\n",
    "    )"
   ]
  },
  {
   "cell_type": "code",
   "execution_count": 73,
   "metadata": {},
   "outputs": [
    {
     "name": "stdout",
     "output_type": "stream",
     "text": [
      "WARNING:tensorflow:5 out of the last 5 calls to <function TensorFlowTrainer.make_predict_function.<locals>.one_step_on_data_distributed at 0x0000026BB7017600> triggered tf.function retracing. Tracing is expensive and the excessive number of tracings could be due to (1) creating @tf.function repeatedly in a loop, (2) passing tensors with different shapes, (3) passing Python objects instead of tensors. For (1), please define your @tf.function outside of the loop. For (2), @tf.function has reduce_retracing=True option that can avoid unnecessary retracing. For (3), please refer to https://www.tensorflow.org/guide/function#controlling_retracing and https://www.tensorflow.org/api_docs/python/tf/function for  more details.\n",
      "\u001b[1m1/2\u001b[0m \u001b[32m━━━━━━━━━━\u001b[0m\u001b[37m━━━━━━━━━━\u001b[0m \u001b[1m0s\u001b[0m 352ms/stepWARNING:tensorflow:6 out of the last 6 calls to <function TensorFlowTrainer.make_predict_function.<locals>.one_step_on_data_distributed at 0x0000026BB7017600> triggered tf.function retracing. Tracing is expensive and the excessive number of tracings could be due to (1) creating @tf.function repeatedly in a loop, (2) passing tensors with different shapes, (3) passing Python objects instead of tensors. For (1), please define your @tf.function outside of the loop. For (2), @tf.function has reduce_retracing=True option that can avoid unnecessary retracing. For (3), please refer to https://www.tensorflow.org/guide/function#controlling_retracing and https://www.tensorflow.org/api_docs/python/tf/function for  more details.\n",
      "\u001b[1m2/2\u001b[0m \u001b[32m━━━━━━━━━━━━━━━━━━━━\u001b[0m\u001b[37m\u001b[0m \u001b[1m1s\u001b[0m 357ms/step\n"
     ]
    },
    {
     "name": "stderr",
     "output_type": "stream",
     "text": [
      "c:\\Users\\efren\\Documents\\GitHub\\Projects\\venvNLP_AlgorithmComparison\\Lib\\site-packages\\sklearn\\metrics\\_classification.py:1531: UndefinedMetricWarning: Precision is ill-defined and being set to 0.0 in labels with no predicted samples. Use `zero_division` parameter to control this behavior.\n",
      "  _warn_prf(average, modifier, f\"{metric.capitalize()} is\", len(result))\n",
      "c:\\Users\\efren\\Documents\\GitHub\\Projects\\venvNLP_AlgorithmComparison\\Lib\\site-packages\\sklearn\\metrics\\_classification.py:1531: UndefinedMetricWarning: Precision is ill-defined and being set to 0.0 in labels with no predicted samples. Use `zero_division` parameter to control this behavior.\n",
      "  _warn_prf(average, modifier, f\"{metric.capitalize()} is\", len(result))\n",
      "c:\\Users\\efren\\Documents\\GitHub\\Projects\\venvNLP_AlgorithmComparison\\Lib\\site-packages\\sklearn\\metrics\\_classification.py:1531: UndefinedMetricWarning: Precision is ill-defined and being set to 0.0 in labels with no predicted samples. Use `zero_division` parameter to control this behavior.\n",
      "  _warn_prf(average, modifier, f\"{metric.capitalize()} is\", len(result))\n"
     ]
    }
   ],
   "source": [
    "predictions['lstm'], measurements_lstm = evaluate_model(\n",
    "    model=lstm_tuned,\n",
    "    text_testing=textvectors_testing,\n",
    "    labels_testing=predictions['real'],\n",
    "    model_outputIsMultidimensional=True\n",
    "    )"
   ]
  },
  {
   "cell_type": "code",
   "execution_count": 74,
   "metadata": {},
   "outputs": [
    {
     "name": "stdout",
     "output_type": "stream",
     "text": [
      "          real       svm         dt         lr        rf       mlp       cnn  \\\n",
      "216  ambiguous  positive  ambiguous  ambiguous  positive  positive  positive   \n",
      "196   negative  positive   negative   negative  positive  positive  positive   \n",
      "12    positive  positive   positive   positive  positive  positive  positive   \n",
      "229   negative  positive   negative   positive  positive  positive  positive   \n",
      "247   negative  positive   negative   negative  positive  positive  positive   \n",
      "144   positive  positive   positive   positive  positive  positive  positive   \n",
      "238   negative  positive  ambiguous   positive  positive  positive  positive   \n",
      "214   positive  positive   positive   positive  positive  positive  positive   \n",
      "52    positive  positive   positive   positive  positive  positive  positive   \n",
      "108   positive  positive   positive   positive  positive  positive  positive   \n",
      "300   positive  positive   positive   positive  positive  positive  positive   \n",
      "15    negative  positive  ambiguous   positive  positive  positive  positive   \n",
      "192   negative  positive   positive   positive  positive  positive  positive   \n",
      "256   negative  positive   positive   positive  positive  positive  positive   \n",
      "22    negative  positive   positive   positive  positive  positive  positive   \n",
      "74    positive  positive  ambiguous   positive  positive  positive  positive   \n",
      "280   negative  positive  ambiguous   positive  positive  positive  positive   \n",
      "90    negative  positive   positive   positive  positive  positive  positive   \n",
      "237   positive  positive   positive   positive  positive  positive  positive   \n",
      "172   positive  positive   positive   positive  positive  positive  positive   \n",
      "198   positive  positive   negative   positive  positive  positive  positive   \n",
      "103   positive  positive   positive   positive  positive  positive  positive   \n",
      "132   positive  positive  ambiguous   positive  positive  positive  positive   \n",
      "137   positive  positive   positive   positive  positive  positive  positive   \n",
      "230   negative  positive   positive   positive  positive  positive  positive   \n",
      "124   positive  positive   positive   positive  positive  positive  positive   \n",
      "202   positive  positive   positive   positive  positive  positive  positive   \n",
      "296   positive  positive   negative   negative  positive  positive  positive   \n",
      "242   negative  positive   positive   negative  positive  positive  positive   \n",
      "305   negative  positive   positive  ambiguous  positive  positive  positive   \n",
      "92    positive  positive   positive   positive  positive  positive  positive   \n",
      "66    positive  positive   positive   positive  positive  positive  positive   \n",
      "8     positive  negative   negative  ambiguous  positive  positive  positive   \n",
      "130   positive  positive   positive   positive  positive  positive  positive   \n",
      "227   positive  positive   positive   positive  positive  positive  positive   \n",
      "158  ambiguous  positive   positive   positive  positive  positive  positive   \n",
      "184   negative  positive   positive   positive  positive  positive  positive   \n",
      "190   positive  positive   positive   positive  positive  positive  positive   \n",
      "309   positive  positive   negative   positive  negative  positive  positive   \n",
      "5     negative  positive   positive   negative  positive  positive  positive   \n",
      "231   negative  positive  ambiguous  ambiguous  positive  positive  positive   \n",
      "89    positive  positive   positive   positive  positive  positive  positive   \n",
      "81    positive  positive   positive   negative  positive  positive  positive   \n",
      "34    positive  positive   positive   negative  positive  positive  positive   \n",
      "55    positive  positive   positive   positive  positive  positive  positive   \n",
      "147   positive  positive   positive   positive  positive  positive  positive   \n",
      "244  ambiguous  positive  ambiguous   positive  positive  positive  positive   \n",
      "64    positive  positive   positive   positive  positive  positive  positive   \n",
      "7     negative  positive   positive  ambiguous  positive  positive  positive   \n",
      "45    positive  positive   positive   positive  positive  positive  positive   \n",
      "73    positive  positive   positive   positive  positive  positive  positive   \n",
      "221   negative  positive   positive   negative  positive  positive  positive   \n",
      "181   negative  positive   positive   positive  positive  positive  positive   \n",
      "106   positive  positive   positive  ambiguous  positive  positive  positive   \n",
      "59    positive  positive   positive   positive  positive  positive  positive   \n",
      "261   positive  positive   positive   positive  positive  positive  positive   \n",
      "176   negative  positive   positive   negative  positive  positive  positive   \n",
      "26   ambiguous  positive   negative   positive  positive  positive  positive   \n",
      "294  ambiguous  positive   negative   positive  positive  positive  positive   \n",
      "161   positive  positive   positive   negative  positive  positive  positive   \n",
      "\n",
      "         lstm  \n",
      "216  positive  \n",
      "196  positive  \n",
      "12   positive  \n",
      "229  positive  \n",
      "247  positive  \n",
      "144  positive  \n",
      "238  positive  \n",
      "214  positive  \n",
      "52   positive  \n",
      "108  positive  \n",
      "300  positive  \n",
      "15   positive  \n",
      "192  positive  \n",
      "256  positive  \n",
      "22   positive  \n",
      "74   positive  \n",
      "280  positive  \n",
      "90   positive  \n",
      "237  positive  \n",
      "172  positive  \n",
      "198  positive  \n",
      "103  positive  \n",
      "132  positive  \n",
      "137  positive  \n",
      "230  positive  \n",
      "124  positive  \n",
      "202  positive  \n",
      "296  positive  \n",
      "242  positive  \n",
      "305  positive  \n",
      "92   positive  \n",
      "66   positive  \n",
      "8    positive  \n",
      "130  positive  \n",
      "227  positive  \n",
      "158  positive  \n",
      "184  positive  \n",
      "190  positive  \n",
      "309  positive  \n",
      "5    positive  \n",
      "231  positive  \n",
      "89   positive  \n",
      "81   positive  \n",
      "34   positive  \n",
      "55   positive  \n",
      "147  positive  \n",
      "244  positive  \n",
      "64   positive  \n",
      "7    positive  \n",
      "45   positive  \n",
      "73   positive  \n",
      "221  positive  \n",
      "181  positive  \n",
      "106  positive  \n",
      "59   positive  \n",
      "261  positive  \n",
      "176  positive  \n",
      "26   positive  \n",
      "294  positive  \n",
      "161  positive  \n",
      "                positive  ambiguous   negative  accuracy  macro avg  \\\n",
      "lstm precision  0.000000   0.000000   0.576271  0.566667   0.192090   \n",
      "     recall     0.000000   0.000000   0.971429  0.566667   0.323810   \n",
      "     f1-score   0.000000   0.000000   0.723404  0.566667   0.241135   \n",
      "     support    5.000000  20.000000  35.000000  0.566667  60.000000   \n",
      "rf   precision  0.250000   0.333333   0.674419  0.566667   0.419251   \n",
      "     recall     0.400000   0.150000   0.828571  0.566667   0.459524   \n",
      "     f1-score   0.307692   0.206897   0.743590  0.566667   0.419393   \n",
      "     support    5.000000  20.000000  35.000000  0.566667  60.000000   \n",
      "dt   precision  0.166667   0.600000   0.659091  0.600000   0.475253   \n",
      "     recall     0.200000   0.300000   0.828571  0.600000   0.442857   \n",
      "     f1-score   0.181818   0.400000   0.734177  0.600000   0.438665   \n",
      "     support    5.000000  20.000000  35.000000  0.600000  60.000000   \n",
      "cnn  precision  0.000000   0.000000   0.576271  0.566667   0.192090   \n",
      "     recall     0.000000   0.000000   0.971429  0.566667   0.323810   \n",
      "     f1-score   0.000000   0.000000   0.723404  0.566667   0.241135   \n",
      "     support    5.000000  20.000000  35.000000  0.566667  60.000000   \n",
      "mlp  precision  0.000000   0.000000   0.583333  0.583333   0.194444   \n",
      "     recall     0.000000   0.000000   1.000000  0.583333   0.333333   \n",
      "     f1-score   0.000000   0.000000   0.736842  0.583333   0.245614   \n",
      "     support    5.000000  20.000000  35.000000  0.583333  60.000000   \n",
      "lr   precision  0.000000   0.000000   0.583333  0.583333   0.194444   \n",
      "     recall     0.000000   0.000000   1.000000  0.583333   0.333333   \n",
      "     f1-score   0.000000   0.000000   0.736842  0.583333   0.245614   \n",
      "     support    5.000000  20.000000  35.000000  0.583333  60.000000   \n",
      "svm  precision  0.000000   0.000000   0.583333  0.583333   0.194444   \n",
      "     recall     0.000000   0.000000   1.000000  0.583333   0.333333   \n",
      "     f1-score   0.000000   0.000000   0.736842  0.583333   0.245614   \n",
      "     support    5.000000  20.000000  35.000000  0.583333  60.000000   \n",
      "\n",
      "                weighted avg  \n",
      "lstm precision      0.336158  \n",
      "     recall         0.566667  \n",
      "     f1-score       0.421986  \n",
      "     support       60.000000  \n",
      "rf   precision      0.525355  \n",
      "     recall         0.566667  \n",
      "     f1-score       0.528367  \n",
      "     support       60.000000  \n",
      "dt   precision      0.598359  \n",
      "     recall         0.600000  \n",
      "     f1-score       0.576755  \n",
      "     support       60.000000  \n",
      "cnn  precision      0.336158  \n",
      "     recall         0.566667  \n",
      "     f1-score       0.421986  \n",
      "     support       60.000000  \n",
      "mlp  precision      0.340278  \n",
      "     recall         0.583333  \n",
      "     f1-score       0.429825  \n",
      "     support       60.000000  \n",
      "lr   precision      0.340278  \n",
      "     recall         0.583333  \n",
      "     f1-score       0.429825  \n",
      "     support       60.000000  \n",
      "svm  precision      0.340278  \n",
      "     recall         0.583333  \n",
      "     f1-score       0.429825  \n",
      "     support       60.000000  \n"
     ]
    }
   ],
   "source": [
    "measurements = pd.concat(\n",
    "    [\n",
    "        measurements_svm,\n",
    "        measurements_dt,\n",
    "        measurements_lr,\n",
    "        measurements_rf,\n",
    "        measurements_mlp,\n",
    "        measurements_cnn,\n",
    "        measurements_lstm\n",
    "        ],\n",
    "    keys={\n",
    "        'svm',\n",
    "        'dt',\n",
    "        'lr',\n",
    "        'rf',\n",
    "        'mlp',\n",
    "        'cnn',\n",
    "        'lstm'\n",
    "        }\n",
    "    )\n",
    "print(predictions)\n",
    "print(measurements)"
   ]
  },
  {
   "cell_type": "markdown",
   "metadata": {
    "created_in_deepnote_cell": true,
    "deepnote_cell_type": "markdown"
   },
   "source": [
    "<a style='text-decoration:none;line-height:16px;display:flex;color:#5B5B62;padding:10px;justify-content:end;' href='https://deepnote.com?utm_source=created-in-deepnote-cell&projectId=c08bdf8c-7c67-4c50-96b4-a5db5ca2fd09' target=\"_blank\">\n",
    "<img alt='Created in deepnote.com' style='display:inline;max-height:16px;margin:0px;margin-right:7.5px;' src='data:image/svg+xml;base64,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' > </img>\n",
    "Created in <span style='font-weight:600;margin-left:4px;'>Deepnote</span></a>"
   ]
  }
 ],
 "metadata": {
  "deepnote_notebook_id": "cd268d882c0d48fba72c45ebac046801",
  "deepnote_persisted_session": {
   "createdAt": "2024-11-06T16:18:07.839Z"
  },
  "kernelspec": {
   "display_name": "venvNLP_AlgorithmComparison",
   "language": "python",
   "name": "python3"
  },
  "language_info": {
   "codemirror_mode": {
    "name": "ipython",
    "version": 3
   },
   "file_extension": ".py",
   "mimetype": "text/x-python",
   "name": "python",
   "nbconvert_exporter": "python",
   "pygments_lexer": "ipython3",
   "version": "3.12.4"
  }
 },
 "nbformat": 4,
 "nbformat_minor": 0
}
